{
 "cells": [
  {
   "cell_type": "markdown",
   "metadata": {},
   "source": [
    "# SABR Model\n",
    "\n",
    "In this notebook we analyse Normal implied volatility smile interpolation using **S**tochastic **A**lpha **B**eta **R**ho model.\n",
    "\n",
    "The model is formulated in terms of a forward rate $S(t)$. For our applications, the forward rate is a forward swap rate.\n",
    "\n",
    "The forward rate $S(t)$ is assumed to be a martingale in a suitable pricing measure. For swaption pricing, the martingale pricing measure is the *annuity measure*.\n",
    "\n",
    "Model dynamics are\n",
    "$$\n",
    "\\begin{aligned}\n",
    "  dS(t)            &=\\hat{\\alpha}(t)\\cdot S(t)^{\\beta}\\cdot dW(t), \\\\\n",
    "  d\\hat{\\alpha}(t) &=\\nu\\cdot\\hat{\\alpha}(t)\\cdot dZ(t), \\\\\n",
    "  \\hat{\\alpha}(0)  &=\\alpha, \\\\\n",
    "  dW(t)\\cdot dZ(t) &=\\rho\\cdot dt.\n",
    "\\end{aligned}\n",
    "$$\n",
    "\n",
    "Model parameters have the following impact in implied volatilities:\n",
    "\n",
    "  - $\\alpha$ controls the overall level of implied volatilities.\n",
    "\n",
    "  - $\\beta$ and $\\rho$ change the slope (or skew) of implied volatilities.\n",
    "\n",
    "  - $\\nu$ controls the curvature (or smile) of implied volatilities.\n"
   ]
  },
  {
   "cell_type": "code",
   "execution_count": null,
   "metadata": {},
   "outputs": [],
   "source": [
    "import sys\n",
    "sys.path.append('../')\n",
    "\n",
    "import matplotlib.pyplot as plt\n",
    "import numpy as np\n",
    "\n",
    "from src.sabr_model import SabrModel"
   ]
  },
  {
   "cell_type": "markdown",
   "metadata": {},
   "source": [
    "## Static Smile Modelling\n",
    "\n",
    "We set up a few example SABR models where we successively *switch on* individual parameters."
   ]
  },
  {
   "cell_type": "code",
   "execution_count": null,
   "metadata": {},
   "outputs": [],
   "source": [
    "S0 = 0.05 # forward rate 5%\n",
    "T = 5.0 # 5y expiry\n",
    "\n",
    "# SabrModel( S(t), T, alpha, beta, nu, rho )\n",
    "model1 = SabrModel(S0, T, 0.0100, 0.0001, 0.0001, 0.0)\n",
    "model2 = SabrModel(S0, T, 0.0450, 0.5000, 0.0001, 0.0)\n",
    "model3 = SabrModel(S0, T, 0.0405, 0.5000, 0.5000, 0.0)\n",
    "model4 = SabrModel(S0, T, 0.0420, 0.5000, 0.5000, 0.7)"
   ]
  },
  {
   "cell_type": "markdown",
   "metadata": {},
   "source": [
    "For our example models we can plot Normal implied volatilities."
   ]
  },
  {
   "cell_type": "code",
   "execution_count": null,
   "metadata": {},
   "outputs": [],
   "source": [
    "strikes = np.linspace(1.0e-4, 0.10, 100)\n",
    "#\n",
    "vols1 = np.array([model1.normal_volatility(strike) for strike in strikes])\n",
    "vols2 = np.array([model2.normal_volatility(strike) for strike in strikes])\n",
    "vols3 = np.array([model3.normal_volatility(strike) for strike in strikes])\n",
    "vols4 = np.array([model4.normal_volatility(strike) for strike in strikes])\n",
    "\n",
    "plt.figure(figsize=(8,5))\n",
    "plt.plot(strikes, vols1, 'b-', label='Normal model')\n",
    "plt.plot(strikes, vols2, 'r-', label='CEV model')\n",
    "plt.plot(strikes, vols3, 'g-', label='CEV+SV model')\n",
    "plt.plot(strikes, vols4, 'y-', label='CEV+SV+Corr model')\n",
    "plt.legend()\n",
    "plt.ylim((0.00,0.02))\n",
    "plt.xlabel('strike')\n",
    "plt.ylabel('Normal implied volatility')\n",
    "plt.title(r'SABR smiles, $T=5$, $S(0)=5\\%$')"
   ]
  },
  {
   "cell_type": "markdown",
   "metadata": {},
   "source": [
    "The example smiles confirm the general impact of the model parameters.\n",
    "\n",
    "In addition we can also calculate and plot model-implied densities of the terminal distribution of the swap rate."
   ]
  },
  {
   "cell_type": "code",
   "execution_count": null,
   "metadata": {},
   "outputs": [],
   "source": [
    "rates = strikes\n",
    "#\n",
    "dens1 = np.array([model1.density(S) for S in rates])\n",
    "dens2 = np.array([model2.density(S) for S in rates])\n",
    "dens3 = np.array([model3.density(S) for S in rates])\n",
    "dens4 = np.array([model4.density(S) for S in rates])\n",
    "\n",
    "plt.figure(figsize=(8,5))\n",
    "plt.plot(rates, dens1, 'b-', label='Normal model')\n",
    "plt.plot(rates, dens2, 'r-', label='CEV model')\n",
    "plt.plot(rates, dens3, 'g-', label='CEV+SV model')\n",
    "plt.plot(rates, dens4, 'y-', label='CEV+SV+Corr model')\n",
    "plt.ylim((-20, 40))\n",
    "plt.legend()\n",
    "plt.xlabel('rate $S(T)$')\n",
    "plt.ylabel('implied density')\n",
    "plt.title(r'SABR densities, $T=5$, $S(0)=5\\%$')"
   ]
  },
  {
   "cell_type": "markdown",
   "metadata": {},
   "source": [
    "## Approximation Accuracy\n",
    "\n",
    "The Normal implied volatility formula in SABR model is an approximation. A natural question is how accurate the approximation is.\n",
    "\n",
    "In order to assess approximation accuracy we use a Monte Carlo simulation. With the Monte Carlo simulation we simulate paths of the forward rate $S(t)$ (and stochastic volatility $\\hat \\alpha(t)$).\n",
    "\n",
    "Based on a set of simulated paths we approximate expectations in call and put option pricing formulas by averages of sampled payoffs. Once, we have the option prices we can calculate Normal model-implied volatilities.\n",
    "\n",
    "We start with simulating model paths."
   ]
  },
  {
   "cell_type": "code",
   "execution_count": null,
   "metadata": {},
   "outputs": [],
   "source": [
    "from src.monte_carlo_simulation import MonteCarloSimulation\n",
    "\n",
    "times  = np.array([k*0.01 for k in range(501)])\n",
    "\n",
    "times = np.linspace(0.0, T, 501)\n",
    "n_paths = 2**13\n",
    "# times = np.linspace(0.0, T, 1251)\n",
    "# n_paths = 2**16\n",
    "\n",
    "sim1 = MonteCarloSimulation(model1,times,n_paths, showProgress=True)\n",
    "sim2 = MonteCarloSimulation(model2,times,n_paths, showProgress=True)\n",
    "sim3 = MonteCarloSimulation(model3,times,n_paths, showProgress=True)\n",
    "sim4 = MonteCarloSimulation(model4,times,n_paths, showProgress=True)"
   ]
  },
  {
   "cell_type": "markdown",
   "metadata": {},
   "source": [
    "Next, we calculate implied volatilities from simulated paths."
   ]
  },
  {
   "cell_type": "code",
   "execution_count": null,
   "metadata": {},
   "outputs": [],
   "source": [
    "from src.helpers import bachelier_implied_vol\n",
    "\n",
    "def implied_volatility_monte_carlo(sim, T, strikes):\n",
    "    idx = np.searchsorted(sim.times, T)\n",
    "    assert sim.times[idx] == T\n",
    "    S_0 = sim.X[0,0,0]\n",
    "    S_T = sim.X[idx,0,:]\n",
    "    S_T += (S_0 - S_T.mean()) # we incorporate an adjuster to numerically ensure put-call-parity\n",
    "    S_T = np.reshape(S_T, (-1,1))\n",
    "    K = np.reshape(strikes, (1,-1))\n",
    "    #\n",
    "    V_T = np.maximum((2*(K>S_0)-1) * (S_T - K), 0.0)\n",
    "    E_T_T = np.mean(V_T, axis=0)\n",
    "    vols = np.array([\n",
    "         bachelier_implied_vol(P_, K_, S_0, T, 2*(K_>S_0)-1) \n",
    "         for P_, K_ in zip(E_T_T, strikes)\n",
    "         ])\n",
    "    return vols\n"
   ]
  },
  {
   "cell_type": "code",
   "execution_count": null,
   "metadata": {},
   "outputs": [],
   "source": [
    "ref_strikes = np.linspace(0.01, 0.10, 10)\n",
    "\n",
    "vols1_1y_mc = implied_volatility_monte_carlo(sim1, T=1.0, strikes=ref_strikes)\n",
    "vols2_1y_mc = implied_volatility_monte_carlo(sim2, T=1.0, strikes=ref_strikes)\n",
    "vols3_1y_mc = implied_volatility_monte_carlo(sim3, T=1.0, strikes=ref_strikes)\n",
    "vols4_1y_mc = implied_volatility_monte_carlo(sim4, T=1.0, strikes=ref_strikes)\n",
    "\n",
    "vols1_5y_mc = implied_volatility_monte_carlo(sim1, T=5.0, strikes=ref_strikes)\n",
    "vols2_5y_mc = implied_volatility_monte_carlo(sim2, T=5.0, strikes=ref_strikes)\n",
    "vols3_5y_mc = implied_volatility_monte_carlo(sim3, T=5.0, strikes=ref_strikes)\n",
    "vols4_5y_mc = implied_volatility_monte_carlo(sim4, T=5.0, strikes=ref_strikes)\n"
   ]
  },
  {
   "cell_type": "markdown",
   "metadata": {},
   "source": [
    "For comparison we also calculate the corresponding SABR vols."
   ]
  },
  {
   "cell_type": "code",
   "execution_count": null,
   "metadata": {},
   "outputs": [],
   "source": [
    "def implied_volatility_model(model, T, strikes):\n",
    "     \"\"\"Wrap vol calculation for variable T\"\"\"\n",
    "     m = SabrModel(model.forward, T, model.alpha, model.beta, model.nu, model.rho)\n",
    "     return np.array([m.normal_volatility(strike) for strike in strikes])\n",
    "\n",
    "vols1_1y_md = implied_volatility_model(model1, T=1.0, strikes=strikes)\n",
    "vols2_1y_md = implied_volatility_model(model2, T=1.0, strikes=strikes)\n",
    "vols3_1y_md = implied_volatility_model(model3, T=1.0, strikes=strikes)\n",
    "vols4_1y_md = implied_volatility_model(model4, T=1.0, strikes=strikes)\n",
    "\n",
    "vols1_5y_md = implied_volatility_model(model1, T=5.0, strikes=strikes)\n",
    "vols2_5y_md = implied_volatility_model(model2, T=5.0, strikes=strikes)\n",
    "vols3_5y_md = implied_volatility_model(model3, T=5.0, strikes=strikes)\n",
    "vols4_5y_md = implied_volatility_model(model4, T=5.0, strikes=strikes)\n"
   ]
  },
  {
   "cell_type": "markdown",
   "metadata": {},
   "source": [
    "And finally we plot and compare the results."
   ]
  },
  {
   "cell_type": "code",
   "execution_count": null,
   "metadata": {},
   "outputs": [],
   "source": [
    "# 1y plot\n",
    "plt.figure(figsize=(8,5))\n",
    "plt.plot(strikes,     vols1_1y_md, 'b-', label='Normal model')\n",
    "plt.plot(ref_strikes, vols1_1y_mc, 'b*')\n",
    "plt.plot(strikes,     vols2_1y_md, 'r-', label='CEV model')\n",
    "plt.plot(ref_strikes, vols2_1y_mc, 'r*')\n",
    "plt.plot(strikes,     vols3_1y_md, 'g-', label='CEV+SV model')\n",
    "plt.plot(ref_strikes, vols3_1y_mc, 'g*')\n",
    "plt.plot(strikes,     vols4_1y_md, 'y-', label='CEV+SV+Corr model')\n",
    "plt.plot(ref_strikes, vols4_1y_mc, 'y*')\n",
    "plt.legend()\n",
    "plt.ylim((0.005,0.025))\n",
    "plt.xlabel('strike')\n",
    "plt.ylabel('Normal implied volatility')\n",
    "plt.title(r'SABR smiles, $T=1$, $S(0)=5\\%$')\n",
    "# 5y plot\n",
    "plt.figure(figsize=(8,5))\n",
    "plt.plot(strikes,     vols1_5y_md, 'b-', label='Normal model')\n",
    "plt.plot(ref_strikes, vols1_5y_mc, 'b*')\n",
    "plt.plot(strikes,     vols2_5y_md, 'r-', label='CEV model')\n",
    "plt.plot(ref_strikes, vols2_5y_mc, 'r*')\n",
    "plt.plot(strikes,     vols3_5y_md, 'g-', label='CEV+SV model')\n",
    "plt.plot(ref_strikes, vols3_5y_mc, 'g*')\n",
    "plt.plot(strikes,     vols4_5y_md, 'y-', label='CEV+SV+Corr model')\n",
    "plt.plot(ref_strikes, vols4_5y_mc, 'y*')\n",
    "plt.legend()\n",
    "plt.ylim((0.005,0.025))\n",
    "plt.xlabel('strike')\n",
    "plt.ylabel('Normal implied volatility')\n",
    "plt.title(r'SABR smiles, $T=5$, $S(0)=5\\%$')"
   ]
  },
  {
   "cell_type": "markdown",
   "metadata": {},
   "source": [
    "We find that Monte Carlo implied volatilities match SABR approximation volatilites well for smaller expiries. However, for larger expiries and stochastic volatility we do see differences between Monte Carlo implied volatilities and SABR approximation volatilites."
   ]
  },
  {
   "cell_type": "markdown",
   "metadata": {},
   "source": [
    "## Smile Dynamics\n",
    "\n",
    "In this section we want to analyse how the implied volatility smile changes is the underlying forward swap rate increases or decreases. This behaviour is important in particular for Delta risk calculation.\n",
    "\n",
    "We set up two SABR models with low and higher elasticity parameter $\\beta$. The correlation parameter $\\rho$ is adjusted such that both models show a similar skew and smile around at-the-money.\n",
    "\n",
    "We also plot the smile of a pure CEV model (without stochastic volatility) to verify that CEV cannot model volatility curvature."
   ]
  },
  {
   "cell_type": "code",
   "execution_count": null,
   "metadata": {},
   "outputs": [],
   "source": [
    "# SabrModel( S(t), T, alpha, beta, nu, rho )\n",
    "model1 = SabrModel(0.05,5.0,0.0420, 0.1000,0.5000,0.3 )\n",
    "model2 = SabrModel(0.05,5.0,0.0420, 0.7000,0.5000,0.0 )\n",
    "model3 = SabrModel(0.05,5.0,0.0420, 0.9000,0.0001,0.0 )\n",
    "# ATM calibration\n",
    "print(model1.calibrate_atm(0.01), model2.calibrate_atm(0.01), model3.calibrate_atm(0.01))\n",
    "\n",
    "vols1 = [model1.normal_volatility(strike) for strike in strikes]\n",
    "vols2 = [model2.normal_volatility(strike) for strike in strikes]\n",
    "vols3 = [model3.normal_volatility(strike) for strike in strikes]\n",
    "\n",
    "plt.figure(figsize=(8,5))\n",
    "plt.plot(strikes,vols1, 'b-', label='beta=0.1,nu=0.5,rho=0.3')\n",
    "plt.plot(strikes,vols2, 'r-', label='beta=0.7,nu=0.5,rho=0.0')\n",
    "plt.plot(strikes,vols3, 'g-', label='beta=0.9,nu=0.0,rho=0.0')\n",
    "plt.legend()\n",
    "plt.xlabel('strike')\n",
    "plt.ylabel('Normal volatility')\n",
    "plt.xlim((0.0, 0.10))\n",
    "plt.ylim((0.005, 0.020))"
   ]
  },
  {
   "cell_type": "markdown",
   "metadata": {},
   "source": [
    "Now, we slide the forward rate $S(0)$ from $2\\%$ to $8\\%$. Then we plot the resulting new smiles and highlight at-the-money volatilities."
   ]
  },
  {
   "cell_type": "code",
   "execution_count": null,
   "metadata": {},
   "outputs": [],
   "source": [
    "S_ = [ 0.020, 0.035, 0.050, 0.065, 0.080 ]\n",
    "vols1_ = []\n",
    "vols2_ = []\n",
    "vols3_ = []\n",
    "backBone1_ = []\n",
    "backBone2_ = []\n",
    "backBone3_ = []\n",
    "for S in S_:\n",
    "    model1.forward = S\n",
    "    model2.forward = S\n",
    "    model3.forward = S\n",
    "    vols1_.append([model1.normal_volatility(strike) for strike in strikes])\n",
    "    vols2_.append([model2.normal_volatility(strike) for strike in strikes])\n",
    "    vols3_.append([model3.normal_volatility(strike) for strike in strikes])\n",
    "    backBone1_.append(model1.normal_volatility(S))\n",
    "    backBone2_.append(model2.normal_volatility(S))\n",
    "    backBone3_.append(model3.normal_volatility(S))\n",
    "\n",
    "# beta = 0.1\n",
    "plt.figure(figsize=(8,5))\n",
    "for k in range(len(S_)):\n",
    "    plt.plot(strikes,vols1_[k], 'b:', label='S='+str(S_[k]))\n",
    "plt.plot(S_,backBone1_, 'bo-')\n",
    "plt.legend()\n",
    "plt.xlabel('swap rate')\n",
    "plt.ylabel('Normal volatility')\n",
    "plt.xlim((0.0, 0.10))\n",
    "plt.ylim((0.005, 0.020))\n",
    "# plt.savefig('SABRSmileSVBeta01.png', dpi=150)\n",
    "\n",
    "# beta = 0.7\n",
    "plt.figure(figsize=(8,5))\n",
    "for k in range(len(S_)):\n",
    "    plt.plot(strikes,vols2_[k], 'r:', label='S='+str(S_[k]))\n",
    "plt.plot(S_,backBone2_, 'ro-')\n",
    "plt.legend()\n",
    "plt.xlabel('swap rate')\n",
    "plt.ylabel('Normal volatility')\n",
    "plt.xlim((0.0, 0.10))\n",
    "plt.ylim((0.005, 0.020))\n",
    "# plt.savefig('SABRSmileSVBeta07.png', dpi=150)\n",
    "\n",
    "# CEV\n",
    "plt.figure(figsize=(8,5))\n",
    "for k in range(len(S_)):\n",
    "    plt.plot(strikes,vols3_[k], 'g:', label='S='+str(S_[k]))\n",
    "plt.plot(S_,backBone3_, 'go-')\n",
    "plt.legend()\n",
    "plt.xlabel('swap rate')\n",
    "plt.ylabel('Normal volatility')\n",
    "plt.xlim((0.0, 0.10))\n",
    "plt.ylim((0.003, 0.020))\n",
    "# plt.savefig('SABRSmileLVBeta09.png', dpi=150)\n"
   ]
  },
  {
   "cell_type": "markdown",
   "metadata": {},
   "source": [
    "Low $\\beta$ yields horizontal shift of the volatility smile, high $\\beta$ moves the smile upwards. If we can observe the volatility behaviour e.g. from historical data then we can use the $\\beta$ parameter to match our model to these observations.\n",
    "\n",
    "For CEV model we also see that volatilities rise if forward rate increases. However, the volatility shape yields appearance that the smile moves to the left if forward moves right. This observation is sometimes considered contradictory to market observations."
   ]
  },
  {
   "cell_type": "markdown",
   "metadata": {},
   "source": [
    "## Shifted SABR Model\n",
    "\n",
    "The code in this section requires the implementation of the Shifted SABR model, see exercises."
   ]
  },
  {
   "cell_type": "markdown",
   "metadata": {},
   "source": [
    "We need to reset some inputs in order to correspond to our market data example from Vanilla models."
   ]
  },
  {
   "cell_type": "code",
   "execution_count": null,
   "metadata": {},
   "outputs": [],
   "source": [
    "T = 5.0\n",
    "S0 = 0.0050  # 0.5%\n",
    "strikes = np.linspace(-0.01, 0.02, 301)"
   ]
  },
  {
   "cell_type": "markdown",
   "metadata": {},
   "source": [
    "Via manual guessing we find SABR model parameters that match our market quotes from the basic Vanilla model analysis. "
   ]
  },
  {
   "cell_type": "code",
   "execution_count": null,
   "metadata": {},
   "outputs": [],
   "source": [
    "from src.shifted_sabr_model import ShiftedSabrModel\n",
    "\n",
    "shifted_model = ShiftedSabrModel(S0, T, 0.0538, 0.7, 0.239, -0.021, 0.05)"
   ]
  },
  {
   "cell_type": "markdown",
   "metadata": {},
   "source": [
    "Now, we can repeat the analysis from the basic Vanilla models and add implied volatilities from our Shifted SABR model."
   ]
  },
  {
   "cell_type": "code",
   "execution_count": null,
   "metadata": {},
   "outputs": [],
   "source": [
    "from src.helpers import black\n",
    "\n",
    "relative_strikes = np.array([ -150, -100, -50, -25, 0, 25, 50, 100, 150 ]) * 1.0e-4\n",
    "smile_quotes = np.array([ -3.97, -2.93, -1.73, -0.94, 0.0, 1.11, 2.39, 5.42, 9.00 ]) * 1.0e-4\n",
    "atm_vol_quote = 72.02 * 1.0e-4\n",
    "#\n",
    "def implied_vol_from_shifted_lognormal_model(T, strike, forward, sigma_sln, shift_lambda):\n",
    "    callOrPut = 1 if strike > S0 else -1\n",
    "    fwd_price = black(strike + shift_lambda, S0 + shift_lambda, sigma_sln, T, callOrPut)\n",
    "    return bachelier_implied_vol(fwd_price, strike, forward, T, callOrPut)\n",
    "#\n",
    "implied_vol_n = atm_vol_quote * np.ones(len(strikes))\n",
    "\n",
    "sigma_sln = 0.085\n",
    "shift_lambda = 0.08\n",
    "implied_vol_sln = np.array([ implied_vol_from_shifted_lognormal_model(5.0, K, S0, sigma_sln, shift_lambda) for K in strikes ])\n",
    "\n",
    "implied_vol_shifted_sabr = np.array([\n",
    "    shifted_model.normal_volatility(K) for K in strikes\n",
    "])\n",
    "\n",
    "plt.figure(figsize=(8,5))\n",
    "plt.plot(S0+relative_strikes, atm_vol_quote+smile_quotes, 'm*', label='market quotes')\n",
    "plt.plot(strikes, implied_vol_n, 'b', label='Normal model')\n",
    "plt.plot(strikes, implied_vol_sln, 'g', label='Shifted Log-normal model')\n",
    "plt.plot(strikes, implied_vol_shifted_sabr, 'r', label='Shifted SABR model')\n",
    "plt.ylim(0.0060, 0.0085)\n",
    "plt.xlabel('strike')\n",
    "plt.ylabel('Normal implied volatility')\n",
    "plt.legend()"
   ]
  },
  {
   "cell_type": "markdown",
   "metadata": {},
   "source": [
    "As a result we see that the Shifted SABR model allows for a very good fit to our market quotes."
   ]
  }
 ],
 "metadata": {
  "kernelspec": {
   "display_name": "interest-rate-modelling",
   "language": "python",
   "name": "python3"
  },
  "language_info": {
   "codemirror_mode": {
    "name": "ipython",
    "version": 3
   },
   "file_extension": ".py",
   "mimetype": "text/x-python",
   "name": "python",
   "nbconvert_exporter": "python",
   "pygments_lexer": "ipython3",
   "version": "3.13.2"
  },
  "orig_nbformat": 4
 },
 "nbformat": 4,
 "nbformat_minor": 2
}
