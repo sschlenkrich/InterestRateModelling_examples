{
 "cells": [
  {
   "cell_type": "markdown",
   "metadata": {},
   "source": [
    "# SwapPricing\n",
    "\n",
    "In this notebook we illustrate the setup of Vanilla interest rate swaps.\n",
    "\n",
    "We use the QuantLib wrappers provided for the examples. Alternatively, the swap could also be setup using QuantLib functionality directly."
   ]
  },
  {
   "cell_type": "code",
   "execution_count": null,
   "metadata": {},
   "outputs": [],
   "source": [
    "import sys\n",
    "sys.path.append('../') # make sure we can access the src/ folder\n",
    "\n",
    "import QuantLib as ql\n",
    "from src.yieldcurve import YieldCurve\n",
    "from src.swap import Swap\n"
   ]
  },
  {
   "cell_type": "markdown",
   "metadata": {},
   "source": [
    "We set up our QuantLib pricing environment by specifying valuation date."
   ]
  },
  {
   "cell_type": "code",
   "execution_count": null,
   "metadata": {},
   "outputs": [],
   "source": [
    "today = ql.Date(3,9,2018)\n",
    "ql.Settings.instance().evaluationDate = today"
   ]
  },
  {
   "cell_type": "markdown",
   "metadata": {},
   "source": [
    "Next, we need yield curve objects for discounting and Libor rate projection."
   ]
  },
  {
   "cell_type": "code",
   "execution_count": null,
   "metadata": {},
   "outputs": [],
   "source": [
    "terms = [     \\\n",
    "        '1y', \\\n",
    "        '2y', \\\n",
    "        '3y', \\\n",
    "        '4y', \\\n",
    "        '5y', \\\n",
    "        '6y', \\\n",
    "        '7y', \\\n",
    "        '8y', \\\n",
    "        '9y', \\\n",
    "        '10y',\\\n",
    "        '12y',\\\n",
    "        '15y',\\\n",
    "        '20y',\\\n",
    "        '25y',\\\n",
    "        '30y' ]\n",
    "\n",
    "rates = [       \\\n",
    "        2.70e-2,\\\n",
    "        2.75e-2,\\\n",
    "        2.80e-2,\\\n",
    "        3.00e-2,\\\n",
    "        3.36e-2,\\\n",
    "        3.68e-2,\\\n",
    "        3.97e-2,\\\n",
    "        4.24e-2,\\\n",
    "        4.50e-2,\\\n",
    "        4.75e-2,\\\n",
    "        4.75e-2,\\\n",
    "        4.70e-2,\\\n",
    "        4.50e-2,\\\n",
    "        4.30e-2,\\\n",
    "        4.30e-2 ]\n",
    "\n",
    "rates2 = [ r+0.005 for r in rates ]  # assume 50bp = 0.50% tenor basis spread\n",
    "\n",
    "discCurve = YieldCurve(terms,rates)\n",
    "projCurve = YieldCurve(terms,rates2)"
   ]
  },
  {
   "cell_type": "markdown",
   "metadata": {},
   "source": [
    "The swap instrument in our wrapper is specified by start date, end date and fixed rate.\n",
    "\n",
    "Recall that many more details and conventions need to be specified for a full interest rate swap specification. These are hidden in our *Swap* class. Check the code in *scr/swap.py* for more details on schedule generation and rate specification."
   ]
  },
  {
   "cell_type": "code",
   "execution_count": null,
   "metadata": {},
   "outputs": [],
   "source": [
    "start_date = ql.Date(30, 10, 2018)\n",
    "end_date   = ql.Date(30, 10, 2038)\n",
    "fixed_rate = 0.05\n",
    "\n",
    "swap = Swap(start_date,end_date,0.05,discCurve,projCurve)"
   ]
  },
  {
   "cell_type": "markdown",
   "metadata": {},
   "source": [
    "Finally, we can present value and other related quantities for our example swap."
   ]
  },
  {
   "cell_type": "code",
   "execution_count": null,
   "metadata": {},
   "outputs": [],
   "source": [
    "print('NPV:      %11.2f' % (swap.npv()))\n",
    "print('FairRate: %11.6f' % (swap.fairRate()))\n",
    "print('Annuity:  %11.2f' % (swap.annuity()))"
   ]
  },
  {
   "cell_type": "markdown",
   "metadata": {},
   "source": [
    "For detailed analysis it is useful to inspect the individual legs of the swap."
   ]
  },
  {
   "cell_type": "code",
   "execution_count": null,
   "metadata": {},
   "outputs": [],
   "source": [
    "swap.fixedCashFlows()"
   ]
  },
  {
   "cell_type": "code",
   "execution_count": null,
   "metadata": {},
   "outputs": [],
   "source": [
    "swap.floatCashFlows()"
   ]
  }
 ],
 "metadata": {
  "kernelspec": {
   "display_name": "interest-rate-modelling",
   "language": "python",
   "name": "python3"
  },
  "language_info": {
   "codemirror_mode": {
    "name": "ipython",
    "version": 3
   },
   "file_extension": ".py",
   "mimetype": "text/x-python",
   "name": "python",
   "nbconvert_exporter": "python",
   "pygments_lexer": "ipython3",
   "version": "3.13.2"
  },
  "orig_nbformat": 4
 },
 "nbformat": 4,
 "nbformat_minor": 2
}
