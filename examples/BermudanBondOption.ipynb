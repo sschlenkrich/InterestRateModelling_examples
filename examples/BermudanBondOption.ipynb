{
 "cells": [
  {
   "cell_type": "markdown",
   "metadata": {},
   "source": [
    "# Bermudan Bond Option\n",
    "\n",
    "In this notebook we illustrate the pricing of Bermudan bond options via backward induction algorithm.\n",
    "\n",
    "The notebook is structured as follows:\n",
    "\n",
    "  1. Specification of a Bermudan option.\n",
    "\n",
    "  2. Option pricing via backward induction algorithm.\n",
    "\n",
    "  3. Numerical analysis of pricing methods:\n",
    "     \n",
    "     a) Density integration methods,\n",
    "\n",
    "     b) PDE pricing method,\n",
    "\n",
    "     c) American Monte Carlo pricing methods.\n",
    "\n",
    "For all the tests we use the curves and Hull White model from earlier examples."
   ]
  },
  {
   "cell_type": "code",
   "execution_count": null,
   "metadata": {},
   "outputs": [],
   "source": [
    "import sys\n",
    "sys.path.append('../') # make sure we can access the src/ folder\n",
    "\n",
    "from ipywidgets import interact\n",
    "import matplotlib.pyplot as plt\n",
    "import numpy as np\n",
    "import pandas as pd\n",
    "from tqdm import tqdm\n",
    "\n",
    "from src.hull_white_model import HullWhiteModel\n",
    "from src.yieldcurve import YieldCurve"
   ]
  },
  {
   "cell_type": "markdown",
   "metadata": {},
   "source": [
    "We set up initial yield curve and Hull White model."
   ]
  },
  {
   "cell_type": "code",
   "execution_count": null,
   "metadata": {},
   "outputs": [],
   "source": [
    "terms = [    '1y',    '2y',    '3y',    '4y',    '5y',    '6y',    '7y',    '8y',    '9y',   '10y',   '12y',   '15y',   '20y',   '25y',   '30y', '50y'   ] \n",
    "rates = [ 2.70e-2, 2.75e-2, 2.80e-2, 3.00e-2, 3.36e-2, 3.68e-2, 3.97e-2, 4.24e-2, 4.50e-2, 4.75e-2, 4.75e-2, 4.70e-2, 4.50e-2, 4.30e-2, 4.30e-2, 4.30e-2 ] \n",
    "\n",
    "disc_curve = YieldCurve(terms, rates)\n",
    "\n",
    "mean_reversion = 0.03\n",
    "volatility_times  = np.array([ 1.0, 2.0, 3.0, 5.0, 7.0, 10.0, ])\n",
    "volatility_values = np.array([ 90., 80., 70., 60., 50., 40., ]) * 1e-4\n",
    "\n",
    "model = HullWhiteModel(disc_curve, mean_reversion, volatility_times, volatility_values)"
   ]
  },
  {
   "cell_type": "markdown",
   "metadata": {},
   "source": [
    "## Bermudan Bond Option Specification\n",
    "\n",
    "A bond option gives the option holder the right to buy a fixed rate bond at one or more pre-defined exercise times.\n",
    "\n",
    "The underlying fixed rate bond pays regular coupons and redeems the bond notional at final maturity.\n",
    "\n",
    "If the option holder decides to exercise the option then the payoff for the option holder is as follows:\n",
    "\n",
    "  - The option holder pays the pre-defined strike price; typically equal to bond notional.\n",
    "\n",
    "  - The option holder receives the future coupons after exercise time.\n",
    "\n",
    "  - The option holder receives the bond notional at final maturity.\n",
    "\n",
    "The sum of all cash paid and received flows represents the *underlying* at a given exercise time.\n",
    "\n",
    "If there are several exercise times (i.e. a Bermudan option) then the underlying differs for each exercise time. In particular, the number of future coupons (after exercise) reduces if exercise time increases."
   ]
  },
  {
   "cell_type": "markdown",
   "metadata": {},
   "source": [
    "We consider a 10y maturity bond with unit notional paying an annual coupons of 3%."
   ]
  },
  {
   "cell_type": "code",
   "execution_count": null,
   "metadata": {},
   "outputs": [],
   "source": [
    "cpn = 0.03\n",
    "\n",
    "bond = pd.DataFrame()\n",
    "bond['pay_times']  = [ 1.0, 2.0, 3.0, 4.0, 5.0, 6.0, 7.0, 8.0, 9.0, 10.0, 10.0 ]\n",
    "bond['cash_flows'] = [ cpn, cpn, cpn, cpn, cpn, cpn, cpn, cpn, cpn,  cpn,  1.0 ]\n",
    "bond"
   ]
  },
  {
   "cell_type": "markdown",
   "metadata": {},
   "source": [
    "Option exercise (or option expiry) times are assumed to be in 1y, 2y, ... 9y."
   ]
  },
  {
   "cell_type": "code",
   "execution_count": null,
   "metadata": {},
   "outputs": [],
   "source": [
    "exercise_times = np.array([ 1.0, 2.0, 3.0, 4.0, 5.0, 6.0, 7.0, 8.0, 9.0 ])"
   ]
  },
  {
   "cell_type": "markdown",
   "metadata": {},
   "source": [
    "Now, we need to collect the cash flows of the payoff if exercised at a given exercise time."
   ]
  },
  {
   "cell_type": "code",
   "execution_count": null,
   "metadata": {},
   "outputs": [],
   "source": [
    "underlying_flows = []\n",
    "for T in exercise_times:\n",
    "    pay_times  = np.array([ T ])     # strike price payment at exercise\n",
    "    cash_flows = np.array([ -1.0 ])  # strike price equal to notional\n",
    "    #\n",
    "    future_times = bond['pay_times'][bond['pay_times']>T]\n",
    "    future_flows = bond['cash_flows'][bond['pay_times']>T]\n",
    "    #\n",
    "    pay_times = np.concatenate((pay_times, future_times))\n",
    "    cash_flows = np.concatenate((cash_flows, future_flows))\n",
    "    underlying_flows.append({\n",
    "        'pay_times' : pay_times,\n",
    "        'cash_flows' : cash_flows,\n",
    "    })\n",
    "pd.DataFrame(underlying_flows)"
   ]
  },
  {
   "cell_type": "markdown",
   "metadata": {},
   "source": [
    "## Bond Option Pricing via Backward Induction\n",
    "\n",
    "Backward induction algorithm is implemented as a function. The function takes a *method* parameter and the details of the option instrument. The *method* parameter is an object that implements the conditional expectation calculation\n",
    "$$\n",
    "  V(T_0) = B(T_0) \\mathbb{E}\\left[ \\frac{V(T_1)}{B(T_1)} \\right].\n",
    "$$\n",
    "\n",
    "We use density integration method via Simpson formula for this first example."
   ]
  },
  {
   "cell_type": "code",
   "execution_count": null,
   "metadata": {},
   "outputs": [],
   "source": [
    "from src.methods.density_integrations import SimpsonIntegration\n",
    "\n",
    "method = SimpsonIntegration(model)"
   ]
  },
  {
   "cell_type": "markdown",
   "metadata": {},
   "source": [
    "Backward induction algorithm also requires the calculation of the underlying payoffs $U_k(x)$ at expiry time $T_k$ and for a given model state $x$. This calculation is encapsulated in a *payoff* object. In our particular example the payoff is a *CouponBond*."
   ]
  },
  {
   "cell_type": "code",
   "execution_count": null,
   "metadata": {},
   "outputs": [],
   "source": [
    "from src.methods.payoffs import CouponBond\n",
    "\n",
    "underlyings = []\n",
    "for T, U in zip(exercise_times, underlying_flows):\n",
    "    underlyings.append(CouponBond(model, T, U['pay_times'], U['cash_flows']))"
   ]
  },
  {
   "cell_type": "markdown",
   "metadata": {},
   "source": [
    "Now, we got everything to run the backward induction algorithm."
   ]
  },
  {
   "cell_type": "code",
   "execution_count": null,
   "metadata": {},
   "outputs": [],
   "source": [
    "from src.bermudan_option import bermudan_option_npv\n",
    "\n",
    "berm_npv = bermudan_option_npv(exercise_times, underlyings, method, showProgress=True)\n",
    "display(berm_npv)"
   ]
  },
  {
   "cell_type": "markdown",
   "metadata": {},
   "source": [
    "## Numerical Analysis of Pricing Methods\n",
    "\n",
    "Backward induction algorithm for Bermudan options can be implemented with various pricing methods. Available methods depend on the used model. For our Hull White model we implement density integration (with various variants), PDE solution and American Monte Carlo simulation. In this section we analyse the usage and accuracy of the methods.\n",
    "\n",
    "One way of assessing the accuracy of a numerical method for Bermudan options is to apply it to a European option. Then we can use analytic formulas as a benchmark for the numerical methods.\n",
    "\n",
    "We encapsulate European and Bermudan bond option pricing into a function to simplify comparison of our pricing methods."
   ]
  },
  {
   "cell_type": "code",
   "execution_count": null,
   "metadata": {},
   "outputs": [],
   "source": [
    "def europeans_and_bermudan_prices(method):\n",
    "    res = []\n",
    "    for T, U in zip(exercise_times, underlyings):\n",
    "        res.append({\n",
    "            'Exercise' : '%.0fy' % T,\n",
    "            'Analytic' : model.coupon_bond_option(T, U.pay_times, U.cash_flows, 0.0, 1.0),\n",
    "            'Numeric'  : bermudan_option_npv([T], [U], method),\n",
    "        })\n",
    "    res.append({\n",
    "        'Exercise' : 'Berm',\n",
    "        'Numeric'  : bermudan_option_npv(exercise_times, underlyings, method, showProgress=True),\n",
    "    })\n",
    "    res = pd.DataFrame(res)\n",
    "    display(res)\n",
    "    display(res.plot.bar(x='Exercise'))"
   ]
  },
  {
   "cell_type": "markdown",
   "metadata": {},
   "source": [
    "The numerical methods need to be parametrised with discretisation parameters, e.g. number of grid points and width of the grid (measured in standard deviations). For American Monte Carlo we also need to provide simulated paths.\n",
    "\n",
    "The choice of the parameters impacts numerical accuracy and computational effort. For practical applications it is important to carefully balance these two objectives.\n",
    "\n",
    "Below we list the methods with some reasonable parametrisation choices. To get some intuition and experience with the methods you can change the parametrisations an check how the numerical European and Bermudan prices change."
   ]
  },
  {
   "cell_type": "code",
   "execution_count": null,
   "metadata": {},
   "outputs": [],
   "source": [
    "from src.methods.amc_solver import AmcSolver\n",
    "from src.methods.amc_solver import AmcSolverOnlyExerciseRegression\n",
    "from src.methods.amc_solver import CoterminalRateControls\n",
    "from src.methods.density_integrations import DensityIntegrationWithBreakEven\n",
    "from src.methods.density_integrations import CubicSplineExactIntegration\n",
    "from src.methods.density_integrations import HermiteIntegration\n",
    "from src.methods.density_integrations import SimpsonIntegration\n",
    "from src.methods.payoffs import CouponBond\n",
    "from src.methods.pde_solver import PdeSolver\n",
    "from src.monte_carlo_simulation import MonteCarloSimulation\n",
    "\n",
    "# state discretisation for density and PDE method\n",
    "nGridPoints=101\n",
    "stdDevs=5\n",
    "\n",
    "# we need a MC simulation for AMC method\n",
    "times = np.linspace(0.0, 20.0, 21)\n",
    "n_paths = 2**16\n",
    "sim = MonteCarloSimulation(model, times, n_paths, showProgress=True)\n",
    "# some more AMC parametrisations\n",
    "max_polynomial_degree = 2\n",
    "split_ratio = 0.25\n",
    "maturity = bond['pay_times'].iloc[-1]\n",
    "\n",
    "methods = [\n",
    "    CubicSplineExactIntegration(model, nGridPoints, stdDevs),\n",
    "    HermiteIntegration(model, degree=5, nGridPoints=nGridPoints, stdDevs=stdDevs),\n",
    "    SimpsonIntegration(model, nGridPoints, stdDevs),\n",
    "    #\n",
    "    DensityIntegrationWithBreakEven(CubicSplineExactIntegration(model, nGridPoints, stdDevs)),\n",
    "    DensityIntegrationWithBreakEven(SimpsonIntegration(model, nGridPoints, stdDevs)),\n",
    "    #\n",
    "    PdeSolver(model, nGridPoints, stdDevs, theta=0.5, timeStepSize=1.0/12, lambda0N=None),\n",
    "    #\n",
    "    AmcSolver(sim, max_polynomial_degree, split_ratio),\n",
    "    AmcSolverOnlyExerciseRegression(sim, max_polynomial_degree, split_ratio),\n",
    "    AmcSolver(sim, max_polynomial_degree, split_ratio, controls=CoterminalRateControls(model, maturity)),\n",
    "    AmcSolverOnlyExerciseRegression(sim, max_polynomial_degree, split_ratio, controls=CoterminalRateControls(model, maturity)),\n",
    "    AmcSolver(sim, max_polynomial_degree=1, split_ratio=split_ratio, controls=CoterminalRateControls(model, maturity, strike_rate=0.0)),\n",
    "]\n"
   ]
  },
  {
   "cell_type": "markdown",
   "metadata": {},
   "source": [
    "Now we can test the calculations for the various methods considered."
   ]
  },
  {
   "cell_type": "code",
   "execution_count": null,
   "metadata": {},
   "outputs": [],
   "source": [
    "interact(europeans_and_bermudan_prices, method=methods)"
   ]
  }
 ],
 "metadata": {
  "kernelspec": {
   "display_name": "interest-rate-modelling",
   "language": "python",
   "name": "python3"
  },
  "language_info": {
   "codemirror_mode": {
    "name": "ipython",
    "version": 3
   },
   "file_extension": ".py",
   "mimetype": "text/x-python",
   "name": "python",
   "nbconvert_exporter": "python",
   "pygments_lexer": "ipython3",
   "version": "3.13.2"
  },
  "orig_nbformat": 4
 },
 "nbformat": 4,
 "nbformat_minor": 2
}
