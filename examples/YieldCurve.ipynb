{
 "cells": [
  {
   "cell_type": "markdown",
   "metadata": {},
   "source": [
    "# YieldCurve\n",
    "\n",
    "In this notebook we illustrate the setup of simple yield curves and the plotting of yield curves using various interest rate parametrisations.\n",
    "\n",
    "First, we load required modules."
   ]
  },
  {
   "cell_type": "code",
   "execution_count": null,
   "metadata": {},
   "outputs": [],
   "source": [
    "import sys\n",
    "sys.path.append('../') # make sure we can access the src/ folder\n",
    "\n",
    "import QuantLib as ql\n",
    "from src.yieldcurve import YieldCurve"
   ]
  },
  {
   "cell_type": "markdown",
   "metadata": {},
   "source": [
    "QuantLib uses actual dates for calculations. This requires an *evaluation date* as a starting point to calculate time differences typically measured in years or year fractions."
   ]
  },
  {
   "cell_type": "code",
   "execution_count": null,
   "metadata": {},
   "outputs": [],
   "source": [
    "today = ql.Settings.instance().evaluationDate\n",
    "today"
   ]
  },
  {
   "cell_type": "markdown",
   "metadata": {},
   "source": [
    "We specify a yield curve as a list of *terms* and corresponding *rate values*."
   ]
  },
  {
   "cell_type": "code",
   "execution_count": null,
   "metadata": {},
   "outputs": [],
   "source": [
    "terms = [     \\\n",
    "        '1y', \\\n",
    "        '2y', \\\n",
    "        '3y', \\\n",
    "        '4y', \\\n",
    "        '5y', \\\n",
    "        '6y', \\\n",
    "        '7y', \\\n",
    "        '8y', \\\n",
    "        '9y', \\\n",
    "        '10y',\\\n",
    "        '12y',\\\n",
    "        '15y',\\\n",
    "        '20y',\\\n",
    "        '25y',\\\n",
    "        '30y' ]\n",
    "\n",
    "rates = [       \\\n",
    "        2.70e-2,\\\n",
    "        2.75e-2,\\\n",
    "        2.80e-2,\\\n",
    "        3.00e-2,\\\n",
    "        3.36e-2,\\\n",
    "        3.68e-2,\\\n",
    "        3.97e-2,\\\n",
    "        4.24e-2,\\\n",
    "        4.50e-2,\\\n",
    "        4.75e-2,\\\n",
    "        4.75e-2,\\\n",
    "        4.70e-2,\\\n",
    "        4.50e-2,\\\n",
    "        4.30e-2,\\\n",
    "        4.30e-2 ]\n",
    "\n",
    "fwdRateYC = YieldCurve(terms,rates)"
   ]
  },
  {
   "cell_type": "markdown",
   "metadata": {},
   "source": [
    "We can use the method *table()* to display the curve details including the actual curve dates "
   ]
  },
  {
   "cell_type": "code",
   "execution_count": null,
   "metadata": {},
   "outputs": [],
   "source": [
    "fwdRateYC.table()"
   ]
  },
  {
   "cell_type": "markdown",
   "metadata": {},
   "source": [
    "Also, we can plot rates with different parametrisations."
   ]
  },
  {
   "cell_type": "code",
   "execution_count": null,
   "metadata": {},
   "outputs": [],
   "source": [
    "fwdRateYC.plot(stepsize=1.0/365)"
   ]
  },
  {
   "cell_type": "markdown",
   "metadata": {},
   "source": [
    "### Date and Rate Calculations\n",
    "\n",
    "In this section we illustrate how to work with dates, calenders and business day conventions."
   ]
  },
  {
   "cell_type": "code",
   "execution_count": null,
   "metadata": {},
   "outputs": [],
   "source": [
    "calendar = ql.TARGET()\n",
    "period   = ql.Period('500d')\n",
    "bdc      = ql.Following\n",
    "#\n",
    "print(str(calendar)+', '+str(period)+', '+str(bdc))"
   ]
  },
  {
   "cell_type": "code",
   "execution_count": null,
   "metadata": {},
   "outputs": [],
   "source": [
    "maturity = calendar.advance(today,period,bdc)\n",
    "print('Maturity: '+str(maturity))"
   ]
  },
  {
   "cell_type": "code",
   "execution_count": null,
   "metadata": {},
   "outputs": [],
   "source": [
    "discountFactor = fwdRateYC.discount(maturity)\n",
    "print('Discount: '+str(discountFactor))"
   ]
  }
 ],
 "metadata": {
  "kernelspec": {
   "display_name": "interest-rate-modelling",
   "language": "python",
   "name": "python3"
  },
  "language_info": {
   "codemirror_mode": {
    "name": "ipython",
    "version": 3
   },
   "file_extension": ".py",
   "mimetype": "text/x-python",
   "name": "python",
   "nbconvert_exporter": "python",
   "pygments_lexer": "ipython3",
   "version": "3.13.2"
  },
  "orig_nbformat": 4
 },
 "nbformat": 4,
 "nbformat_minor": 2
}
