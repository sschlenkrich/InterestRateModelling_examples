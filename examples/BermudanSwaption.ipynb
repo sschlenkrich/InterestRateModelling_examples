{
 "cells": [
  {
   "cell_type": "markdown",
   "metadata": {},
   "source": [
    "# Bermudan Swaption Pricing\n",
    "\n",
    "In this notebook we show how Bermudan swaption can be set up and prices. \n",
    "\n",
    "A Bermudan swaption allows the option holder to enter into a swap at several exercise times. For each individual exercise time the option represents a European swaption. Thus it natural to describe a Bermudan swaption by a list of (co-terminal) European swaptions with equal strike and swap details.\n",
    "\n",
    "If exercised the swap payoff can also be represented as a stream of deterministic cash flows. Consequently, we can equivalently view the Bermudan swaption as a Bermudan bond option. And for the Bermudan bond option representation we can then apply our backward induction algorithm with the Hull White model."
   ]
  },
  {
   "cell_type": "code",
   "execution_count": null,
   "metadata": {},
   "outputs": [],
   "source": [
    "import sys\n",
    "sys.path.append('../') # make sure we can access the src/ folder\n",
    "\n",
    "from matplotlib import cm\n",
    "import matplotlib.pyplot as plt\n",
    "import numpy as np\n",
    "import pandas as pd\n",
    "import QuantLib as ql\n",
    "from tqdm import tqdm\n",
    "\n",
    "from src.hull_white_model import HullWhiteModel\n",
    "from src.swaption import create_swaption\n",
    "from src.yieldcurve import YieldCurve"
   ]
  },
  {
   "cell_type": "markdown",
   "metadata": {},
   "source": [
    "## Market Data\n",
    "\n",
    "In this example we want to focus on the Bermudan swaption setup and pricing. Consequently, we set up simplified market data with flat forward rate and flat market volatilities."
   ]
  },
  {
   "cell_type": "code",
   "execution_count": null,
   "metadata": {},
   "outputs": [],
   "source": [
    "yield_curve       = YieldCurve(['70y'], [0.03])\n",
    "market_volatility = 100 * 1e-4  # 100bp\n",
    "mean_reversion    = 0.05"
   ]
  },
  {
   "cell_type": "markdown",
   "metadata": {},
   "source": [
    "## Bermudan Swaption Specification\n",
    "\n",
    "We consider a Bermudan swaption with 20y maturity and annual exercise times."
   ]
  },
  {
   "cell_type": "code",
   "execution_count": null,
   "metadata": {},
   "outputs": [],
   "source": [
    "maturity = 20 # in years\n",
    "expiry_terms = [ str(e)+'y' for e in range(1, maturity) ]\n",
    "swap_terms   = [ str(maturity - e)+'y' for e in range(1, maturity) ]\n",
    "for e, s in zip(expiry_terms, swap_terms):\n",
    "    print(e + '-' + s)"
   ]
  },
  {
   "cell_type": "markdown",
   "metadata": {},
   "source": [
    "For each exercise time we create a European swaption instrument with a given strike (of 3%)."
   ]
  },
  {
   "cell_type": "code",
   "execution_count": null,
   "metadata": {},
   "outputs": [],
   "source": [
    "swaptions = [\n",
    "    create_swaption(e, s, yield_curve, yield_curve, strike=0.03, normalVolatility=market_volatility)\n",
    "    for e, s in zip(expiry_terms, swap_terms)\n",
    "]"
   ]
  },
  {
   "cell_type": "markdown",
   "metadata": {},
   "source": [
    "## Model Calibration\n",
    "\n",
    "Our Hull White model should ensure that model-implied prices of all European swaptions are consistent to market prices (or Vanilla model prices) of that European swaptions.\n",
    "\n",
    "Consequently, we calibrate our Hull White model for Bermudan pricing to the corresponding European swaptions.\n",
    "\n",
    "For this step we re-use the product-specific bootstrapping method from *HullWhiteModelCalibation.ipynb*."
   ]
  },
  {
   "cell_type": "code",
   "execution_count": null,
   "metadata": {},
   "outputs": [],
   "source": [
    "from scipy.optimize import brentq\n",
    "\n",
    "def model_from_swaptions(european_swaptions, yield_curve, mean_reversion):\n",
    "    details  = [ s.bond_option_details() for s in european_swaptions ]\n",
    "    ref_npv  = [ s.npv_via_bachelier()   for s in european_swaptions ]\n",
    "    ref_vega = [ s.vega()                for s in european_swaptions ]\n",
    "    #\n",
    "    volatility_times  = np.array([ d['expiry_time'] for d in details ])\n",
    "    volatility_values = np.zeros(volatility_times.shape)\n",
    "    for idx in tqdm(range(len(european_swaptions)), 'Model calibration'):\n",
    "        def obj(sigma):\n",
    "            volatility_values[idx:] = sigma\n",
    "            model = HullWhiteModel(yield_curve, mean_reversion, volatility_times, volatility_values)\n",
    "            model_npv = model.coupon_bond_option(\n",
    "                details[idx]['expiry_time'],\n",
    "                details[idx]['pay_times'],\n",
    "                details[idx]['cash_flows'],\n",
    "                details[idx]['strike_price'],\n",
    "                details[idx]['call_or_put']\n",
    "                )\n",
    "            return (model_npv - ref_npv[idx]) / ref_vega[idx]\n",
    "        vol_guess = european_swaptions[idx].normalVolatility\n",
    "        sigma_idx = brentq(obj, 0.1*vol_guess, 5.0*vol_guess, xtol=1.0e-6)\n",
    "        volatility_values[idx] = sigma_idx\n",
    "    return HullWhiteModel(yield_curve, mean_reversion, volatility_times, volatility_values)"
   ]
  },
  {
   "cell_type": "code",
   "execution_count": null,
   "metadata": {},
   "outputs": [],
   "source": [
    "model = model_from_swaptions(swaptions, yield_curve, mean_reversion=mean_reversion)"
   ]
  },
  {
   "cell_type": "markdown",
   "metadata": {},
   "source": [
    "## Bermudan Option Representation\n",
    "\n",
    "The Bermudan swaption needs to be represented as Bermudan bond option. For this step we need to calculate the exercise times and underlying payoffs.\n",
    "\n",
    "In order for the payoff to be evaluated it needs to know the Hull White model. Therefore we use the calibrated model for Bermudan swaption setup.\n"
   ]
  },
  {
   "cell_type": "code",
   "execution_count": null,
   "metadata": {},
   "outputs": [],
   "source": [
    "from src.methods.payoffs import CouponBond\n",
    "\n",
    "def bond_option_details(european_swaptions, model):\n",
    "    details  = [ s.bond_option_details() for s in european_swaptions ]\n",
    "    exercise_times = np.array([ d['expiry_time'] for d in details ])\n",
    "    underlying_payoffs = [\n",
    "        CouponBond(model, d['expiry_time'], d['pay_times'], d['cash_flows'] * d['call_or_put'])\n",
    "        for d in details\n",
    "    ]\n",
    "    return {\n",
    "        'exercise_times' : exercise_times,\n",
    "        'underlying_payoffs' : underlying_payoffs,\n",
    "    }"
   ]
  },
  {
   "cell_type": "code",
   "execution_count": null,
   "metadata": {},
   "outputs": [],
   "source": [
    "option = bond_option_details(swaptions, model)\n",
    "option"
   ]
  },
  {
   "cell_type": "markdown",
   "metadata": {},
   "source": [
    "## Bermudan Pricing\n",
    "\n",
    "For Bermudan option pricing it remains to specify a pricing method. The various pricing methods are analysed in *BermudanBondOption.ipynb*. Here, we use the PDE solver because it is rather efficient if the option exhibits many exercise times."
   ]
  },
  {
   "cell_type": "code",
   "execution_count": null,
   "metadata": {},
   "outputs": [],
   "source": [
    "from src.methods.pde_solver import PdeSolver\n",
    "\n",
    "method = PdeSolver(model)"
   ]
  },
  {
   "cell_type": "markdown",
   "metadata": {},
   "source": [
    "Finally, we can use backward induction algorithm to price the Bermudan option."
   ]
  },
  {
   "cell_type": "code",
   "execution_count": null,
   "metadata": {},
   "outputs": [],
   "source": [
    "from src.bermudan_option import bermudan_option_npv\n",
    "\n",
    "npv = bermudan_option_npv(option['exercise_times'], option['underlying_payoffs'], method, showProgress=True)\n",
    "npv"
   ]
  },
  {
   "cell_type": "markdown",
   "metadata": {},
   "source": [
    "We compare the resulting Bermudan option price to the co-terminal European option prices."
   ]
  },
  {
   "cell_type": "code",
   "execution_count": null,
   "metadata": {},
   "outputs": [],
   "source": [
    "labels = [ e+'-'+s for e, s in zip(expiry_terms, swap_terms) ] + ['Berm']\n",
    "npvs   = [ s.npv() for s in swaptions                        ] + [ npv  ]\n",
    "\n",
    "x = 4 * np.linspace(1,20,20)\n",
    "fig = plt.figure(figsize=(8, 4))\n",
    "plt.bar(x, npvs, 3.0)\n",
    "plt.xticks(x, labels, rotation='vertical')\n",
    "plt.xlabel('swaption')\n",
    "plt.ylabel('option price')\n",
    "plt.show()"
   ]
  },
  {
   "cell_type": "markdown",
   "metadata": {},
   "source": [
    "## Bermudan Pricing Analysis\n",
    "\n",
    "In order to conveniently analyse and compare Bermudan option pricing we wrap option setup, model calibration, pricing and plotting into a function."
   ]
  },
  {
   "cell_type": "code",
   "execution_count": null,
   "metadata": {},
   "outputs": [],
   "source": [
    "def bermudan_pricing_analysis(\n",
    "    maturity,\n",
    "    strike, \n",
    "    rate, \n",
    "    market_volatility, \n",
    "    mean_reversion, \n",
    "    method_from_model,\n",
    "    show_plots = True\n",
    "    ):\n",
    "    #\n",
    "    yield_curve = YieldCurve(['70y'], [rate])\n",
    "    expiry_terms = [ str(e)+'y' for e in range(1, maturity) ]\n",
    "    swap_terms   = [ str(maturity - e)+'y' for e in range(1, maturity) ]\n",
    "    swaptions = [\n",
    "        create_swaption(e, s, yield_curve, yield_curve, strike=strike, normalVolatility=market_volatility, payerOrReceiver=ql.VanillaSwap.Receiver)\n",
    "        for e, s in zip(expiry_terms, swap_terms)\n",
    "    ]\n",
    "    model = model_from_swaptions(swaptions, yield_curve, mean_reversion)\n",
    "    option = bond_option_details(swaptions, model)\n",
    "    method = method_from_model(model)\n",
    "    berm_npv = bermudan_option_npv(option['exercise_times'], option['underlying_payoffs'], method, showProgress=True)\n",
    "    #\n",
    "    european_npvs = [ s.npv() for s in swaptions ]\n",
    "    switch_value = berm_npv - np.max(european_npvs)\n",
    "    #\n",
    "    if not show_plots:\n",
    "        return switch_value\n",
    "    #\n",
    "    times = np.linspace(0.0, maturity, 100*maturity + 1)\n",
    "    vols  = np.array([ model.sigma(t) for t in times ])\n",
    "    fig = plt.figure(figsize=(8, 5))\n",
    "    plt.plot(times, vols * 1e+4)\n",
    "    plt.xlabel(r'time $t$')\n",
    "    plt.ylabel(r'short rate volatility $\\sigma(t)$ (bp)')\n",
    "    plt.title(r'mean reversion $a=%.2f$' % mean_reversion)\n",
    "    plt.ylim((0, 160))\n",
    "    #\n",
    "    labels = [ e+'-'+s for e, s in zip(expiry_terms, swap_terms) ] + ['Berm'    ]\n",
    "    npvs   = european_npvs                                         + [ berm_npv ]    \n",
    "    x = 4 * np.linspace(1, maturity, maturity)\n",
    "    fig = plt.figure(figsize=(8, 4))\n",
    "    plt.bar(x, npvs, 3.0)\n",
    "    plt.xticks(x, labels, rotation='vertical')\n",
    "    plt.xlabel('swaption')\n",
    "    plt.ylabel('option price')\n",
    "    plt.title(r'switch option value %.2f' % switch_value)\n",
    "    plt.show()"
   ]
  },
  {
   "cell_type": "markdown",
   "metadata": {},
   "source": [
    "Now, we can compare calibrated volatilities and option prices depending on mean reversion and option moneyness."
   ]
  },
  {
   "cell_type": "markdown",
   "metadata": {},
   "source": [
    "### Out-of-the-money Options"
   ]
  },
  {
   "cell_type": "code",
   "execution_count": null,
   "metadata": {},
   "outputs": [],
   "source": [
    "bermudan_pricing_analysis(maturity=20, strike=0.03, rate=0.05, market_volatility=0.01, mean_reversion=-0.05, method_from_model=PdeSolver)\n"
   ]
  },
  {
   "cell_type": "code",
   "execution_count": null,
   "metadata": {},
   "outputs": [],
   "source": [
    "bermudan_pricing_analysis(maturity=20, strike=0.03, rate=0.05, market_volatility=0.01, mean_reversion=0.05, method_from_model=PdeSolver)"
   ]
  },
  {
   "cell_type": "markdown",
   "metadata": {},
   "source": [
    "### In-the-money Options"
   ]
  },
  {
   "cell_type": "code",
   "execution_count": null,
   "metadata": {},
   "outputs": [],
   "source": [
    "bermudan_pricing_analysis(maturity=20, strike=0.03, rate=0.01, market_volatility=0.01, mean_reversion=-0.05, method_from_model=PdeSolver)"
   ]
  },
  {
   "cell_type": "code",
   "execution_count": null,
   "metadata": {},
   "outputs": [],
   "source": [
    "bermudan_pricing_analysis(maturity=20, strike=0.03, rate=0.01, market_volatility=0.01, mean_reversion=0.05, method_from_model=PdeSolver)"
   ]
  },
  {
   "cell_type": "markdown",
   "metadata": {},
   "source": [
    "## Switch Option Value Analysis\n",
    "\n",
    "The switch option value is the difference between Bermudan model price and the maximum European option price. The switch option value is always non-negative because, by construction, the Bermudan option value must be larger or equal to the maximum Europen option price\n",
    "\n",
    "If the Hull White model is calibrated to co-terminal European swaptions then then we can use mean reversion to control the switch option value.\n",
    "\n",
    "We calculate the switch option value for in-the-money (ITM), at-the-money (ATM) and out-of-the-money (OTM) options."
   ]
  },
  {
   "cell_type": "code",
   "execution_count": null,
   "metadata": {},
   "outputs": [],
   "source": [
    "strike = 0.03\n",
    "\n",
    "options = [\n",
    "    { 'label' : 'ITM', 'rate' : 0.01 },\n",
    "    { 'label' : 'ATM', 'rate' : 0.03 },\n",
    "    { 'label' : 'OTM', 'rate' : 0.05 },        \n",
    "]\n",
    "\n",
    "mean_reversions = np.linspace(-0.05, 0.11, 9)\n",
    "\n",
    "switch_value = lambda rate, mean_reversion : \\\n",
    "    bermudan_pricing_analysis(maturity=20, strike=0.03, rate=rate, market_volatility=0.01, mean_reversion=mean_reversion, method_from_model=PdeSolver, show_plots=False)\n",
    "\n",
    "switch_values = []\n",
    "for mean_reversion in mean_reversions:\n",
    "    row = { 'mean_reversion' : mean_reversion }\n",
    "    for option in options:\n",
    "        row[option['label']] = switch_value(option['rate'], mean_reversion)\n",
    "    switch_values.append(row)\n",
    "switch_values = pd.DataFrame(switch_values)\n",
    "switch_values"
   ]
  },
  {
   "cell_type": "code",
   "execution_count": null,
   "metadata": {},
   "outputs": [],
   "source": [
    "plt.figure(figsize=(8,5))\n",
    "plt.plot(switch_values['mean_reversion'], switch_values['ITM'], label='ITM')\n",
    "plt.plot(switch_values['mean_reversion'], switch_values['ATM'], label='ATM')\n",
    "plt.plot(switch_values['mean_reversion'], switch_values['OTM'], label='OTM')\n",
    "plt.legend()\n",
    "plt.xlabel('mean reversion $a$')\n",
    "plt.ylabel('switch option value')"
   ]
  }
 ],
 "metadata": {
  "kernelspec": {
   "display_name": "interest-rate-modelling",
   "language": "python",
   "name": "python3"
  },
  "language_info": {
   "codemirror_mode": {
    "name": "ipython",
    "version": 3
   },
   "file_extension": ".py",
   "mimetype": "text/x-python",
   "name": "python",
   "nbconvert_exporter": "python",
   "pygments_lexer": "ipython3",
   "version": "3.13.2"
  },
  "orig_nbformat": 4
 },
 "nbformat": 4,
 "nbformat_minor": 2
}
