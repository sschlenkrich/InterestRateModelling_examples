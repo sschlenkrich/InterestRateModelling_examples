{
 "cells": [
  {
   "cell_type": "markdown",
   "metadata": {},
   "source": [
    "# Global Rates\n",
    "\n",
    "In this notebook we compare various yield curves for global markets based on actual market data.\n",
    "\n",
    "Eurex is a major clearing house facilitating trading in interest rate derivatives. As part of their business Eurex calculates *settlement prices* for interest rate derivatives. In order to ensure transparency for market participants, Eurex publishes the curves used to calculate settlement prices:\n",
    "\n",
    "https://www.eurex.com/ec-en/clear/eurex-otc-clear/settlement-prices\n",
    "\n",
    "We can use the settlement prices data file to compare snap shots of market yield curves.\n",
    "\n",
    "The notebook is structured as follows:\n",
    "\n",
    "  1. Load Eurex curve data from settlement prices data file and describe content.\n",
    "\n",
    "  2. Setup QuantLib yield curves from published data.\n",
    "\n",
    "  3. Calculate par swap rates for various market instruments.\n"
   ]
  },
  {
   "cell_type": "code",
   "execution_count": null,
   "metadata": {},
   "outputs": [],
   "source": [
    "import matplotlib.pyplot as plt\n",
    "import numpy as np\n",
    "import pandas as pd\n",
    "import QuantLib as ql"
   ]
  },
  {
   "cell_type": "markdown",
   "metadata": {},
   "source": [
    "## Eurex Settlement Price Data\n",
    "\n",
    "Eurex settlement price data is published as CSV file and can be downloaded from above web site. We assume it is saved in the *data/* sub-folder.\n",
    "\n",
    "The file name needs to be adjusted to the actual file name from the download."
   ]
  },
  {
   "cell_type": "code",
   "execution_count": null,
   "metadata": {},
   "outputs": [],
   "source": [
    "eurex_data_file_name = '../data/settlement-prices_20220523.csv'"
   ]
  },
  {
   "cell_type": "markdown",
   "metadata": {},
   "source": [
    "We use Pandas to read and analyse the data file."
   ]
  },
  {
   "cell_type": "code",
   "execution_count": null,
   "metadata": {},
   "outputs": [],
   "source": [
    "data = pd.read_csv(eurex_data_file_name)\n",
    "data.columns"
   ]
  },
  {
   "cell_type": "markdown",
   "metadata": {},
   "source": [
    "The data represent end-of-day market data for a given valuation date."
   ]
  },
  {
   "cell_type": "code",
   "execution_count": null,
   "metadata": {},
   "outputs": [],
   "source": [
    "valuation_date_time = data['Value DateTime'].iloc[0]\n",
    "valuation_date_time"
   ]
  },
  {
   "cell_type": "markdown",
   "metadata": {},
   "source": [
    "The curve valuation data also represents our valuation date for pricing."
   ]
  },
  {
   "cell_type": "code",
   "execution_count": null,
   "metadata": {},
   "outputs": [],
   "source": [
    "today = ql.DateParser.parseISO(valuation_date_time[:10])\n",
    "ql.Settings.instance().evaluationDate = today\n",
    "today"
   ]
  },
  {
   "cell_type": "markdown",
   "metadata": {},
   "source": [
    "We can check which curves are included in the data set."
   ]
  },
  {
   "cell_type": "code",
   "execution_count": null,
   "metadata": {},
   "outputs": [],
   "source": [
    "curve_ids = data['Curve ID'].drop_duplicates()\n",
    "curve_ids"
   ]
  },
  {
   "cell_type": "markdown",
   "metadata": {},
   "source": [
    "For each curve we have data as zero coupon bond price $P(0,T)$ and continuously compounded zero rate $z(0,T)$."
   ]
  },
  {
   "cell_type": "code",
   "execution_count": null,
   "metadata": {},
   "outputs": [],
   "source": [
    "data['Value Type'].drop_duplicates()"
   ]
  },
  {
   "cell_type": "markdown",
   "metadata": {},
   "source": [
    "We can also check e.g. the maximum maturity date and time."
   ]
  },
  {
   "cell_type": "code",
   "execution_count": null,
   "metadata": {},
   "outputs": [],
   "source": [
    "display(data['Maturity Date'].max())\n",
    "display(data['Maturity Offset'].max())\n",
    "display(data['Maturity Offset'].max()/365) # in years\n"
   ]
  },
  {
   "cell_type": "markdown",
   "metadata": {},
   "source": [
    "## QuantLib Yield Curves"
   ]
  },
  {
   "cell_type": "markdown",
   "metadata": {},
   "source": [
    "We can use the data and construct a QuantLib curve."
   ]
  },
  {
   "cell_type": "code",
   "execution_count": null,
   "metadata": {},
   "outputs": [],
   "source": [
    "def zero_curve_from_data(curve_id):\n",
    "    curve_data = data[(data['Curve ID']==curve_id) & (data['Value Type']=='Z') ]\n",
    "    dates = [ ql.DateParser.parseISO(d[:10]) for d in curve_data['Maturity Date'] ]\n",
    "    zeros = [ z for z in curve_data['Value'] ]\n",
    "    curve = ql.ZeroCurve(dates, zeros, ql.Actual365Fixed())\n",
    "    return ql.YieldTermStructureHandle(curve)"
   ]
  },
  {
   "cell_type": "code",
   "execution_count": null,
   "metadata": {},
   "outputs": [],
   "source": [
    "curve = zero_curve_from_data('EUR.ESTR.1D')\n",
    "curve"
   ]
  },
  {
   "cell_type": "markdown",
   "metadata": {},
   "source": [
    "In order to get some intuition of global yield curves we plot and compare various curves."
   ]
  },
  {
   "cell_type": "code",
   "execution_count": null,
   "metadata": {},
   "outputs": [],
   "source": [
    "def plot_curves(curve_ids, xlim=None, ylim=None):\n",
    "    plt.figure(figsize=(8,5))\n",
    "    times = np.linspace(0.0, 30.0, 301)\n",
    "    for id in curve_ids:\n",
    "        c = zero_curve_from_data(id)\n",
    "        z = np.array([ c.zeroRate(T,ql.Continuous,ql.Annual,True).rate() for T in times ])\n",
    "        plt.plot(times, z*100, label=id)\n",
    "    plt.legend()\n",
    "    plt.xlabel('maturity time (in years)')\n",
    "    plt.ylabel('zero rate (in %)')\n",
    "    plt.xlim(xlim)\n",
    "    plt.ylim(ylim)\n",
    "    plt.show()"
   ]
  },
  {
   "cell_type": "markdown",
   "metadata": {},
   "source": [
    "### EUR Curves"
   ]
  },
  {
   "cell_type": "code",
   "execution_count": null,
   "metadata": {},
   "outputs": [],
   "source": [
    "plot_curves(\n",
    "    [\n",
    "    'EUR.ESTR.1D',\n",
    "    'EUR.EURIBOR.3M',\n",
    "    'EUR.EURIBOR.6M',\n",
    "    'EUR.USD_COLL.1D',\n",
    "    ],\n",
    "    ylim=(-0.6, 2.0)\n",
    ")"
   ]
  },
  {
   "cell_type": "markdown",
   "metadata": {},
   "source": [
    "We find that (as of May 2022) short term EUR rates are still negative. But rates are expected to rise in near future. This is reflected in the steep slope for smaller maturities."
   ]
  },
  {
   "cell_type": "markdown",
   "metadata": {},
   "source": [
    "### USD Curves"
   ]
  },
  {
   "cell_type": "code",
   "execution_count": null,
   "metadata": {},
   "outputs": [],
   "source": [
    "plot_curves(\n",
    "    [\n",
    "    'USD.SOFR.1D',\n",
    "    'USD.LIBOR.3M',\n",
    "    'USD.LIBOR.6M',\n",
    "    ],\n",
    ")"
   ]
  },
  {
   "cell_type": "markdown",
   "metadata": {},
   "source": [
    "USD rates are considerably higher then EUR rates. And we also see a steep increase in the curve for short maturities. This indicates expectations of rate rises in the near future. "
   ]
  },
  {
   "cell_type": "markdown",
   "metadata": {},
   "source": [
    "### Emerging Markets Curves\n",
    "\n",
    "We plot yield curves from some Emerging Market currencies.\n",
    "\n",
    "| Code | Currency\n",
    "|------|----------------\n",
    "| BRL  | Brazilian Real\n",
    "| CLP  | Chilean Peso\n",
    "| IDR  | Indonesian Rupiah\n",
    "| INR  | Indian Rupee\n"
   ]
  },
  {
   "cell_type": "code",
   "execution_count": null,
   "metadata": {},
   "outputs": [],
   "source": [
    "plot_curves(\n",
    "    [\n",
    "    'BRL.ANY.0D',\n",
    "    'CLP.ANY.0D',\n",
    "    'IDR.ANY.0D',\n",
    "    'INR.ANY.0D',\n",
    "    ],\n",
    "    xlim=(0,10)\n",
    ")"
   ]
  },
  {
   "cell_type": "markdown",
   "metadata": {},
   "source": [
    "We find that Emerging Markets (EM) rates are considerably higher than EUR and USD rates. This is a typical picture because EM countries often also have higher rates of inflation. And the higher nominal interest rates aim at limiting inflation in that countries. Moreover, default risk in EM countries is probably higher compared to US and EUR countries."
   ]
  },
  {
   "cell_type": "markdown",
   "metadata": {},
   "source": [
    "## Implied Market Rates\n",
    "\n",
    "The EUREX data is given as yield curve model parameters (i.e. zero rates and discount factors). We are also interested in corresponding par market rates or par quotes. These par rates represent the data that is usually quoted in the market by market makers.\n",
    "\n",
    "In order to calculate par rates we need to set up the corresponding market instruments and provide all the details to price these instruments.\n",
    "\n",
    "We show this exercise for EUR instruments, in particular, EURSTR overnight swaps, 3m/6m Euribor FRAs/swaps and 3m versus 6m tenor basis swaps."
   ]
  },
  {
   "cell_type": "markdown",
   "metadata": {},
   "source": [
    "As first step we need indices for our floating rate coupons."
   ]
  },
  {
   "cell_type": "code",
   "execution_count": null,
   "metadata": {},
   "outputs": [],
   "source": [
    "eur_str    = ql.Eonia(zero_curve_from_data('EUR.ESTR.1D'))  # we can use Eonia as a proxy index; conventions are the same as EURSTR\n",
    "euribor_3m = ql.Euribor3M(zero_curve_from_data('EUR.EURIBOR.3M'))\n",
    "euribor_6m = ql.Euribor6M(zero_curve_from_data('EUR.EURIBOR.6M'))"
   ]
  },
  {
   "cell_type": "markdown",
   "metadata": {},
   "source": [
    "With the indices we can construct the market instruments. Fixed rate and spreads of the instruments are set to zero. These are the quantities which we aim to derive such that the market value of the instrument is zero."
   ]
  },
  {
   "cell_type": "markdown",
   "metadata": {},
   "source": [
    "### EURSTR Swaps"
   ]
  },
  {
   "cell_type": "code",
   "execution_count": null,
   "metadata": {},
   "outputs": [],
   "source": [
    "terms = [ '1d', '3m', '6m', '9m', '1y', '18m', '2y', '3y', '4y', '5y', '7y', '10y', '15y', '20y', '25y', '30y' ]\n",
    "eur_str_swaps = [\n",
    "    {\n",
    "        'Term'       : term,\n",
    "        'Instrument' : ql.MakeOIS(\n",
    "            ql.Period(term),\n",
    "            eur_str,\n",
    "            0.0,\n",
    "            discountingTermStructure = zero_curve_from_data('EUR.ESTR.1D'),\n",
    "            ),\n",
    "    }\n",
    "    for term in terms\n",
    "]"
   ]
  },
  {
   "cell_type": "markdown",
   "metadata": {},
   "source": [
    "### Euribor Swaps"
   ]
  },
  {
   "cell_type": "code",
   "execution_count": null,
   "metadata": {},
   "outputs": [],
   "source": [
    "terms = [ '1y', '18m', '2y', '3y', '4y', '5y', '7y', '10y', '15y', '20y', '25y', '30y' ]\n",
    "\n",
    "euribor_3m_swaps = [\n",
    "    {\n",
    "        'Term'       : term,\n",
    "        'Instrument' : ql.MakeVanillaSwap(\n",
    "            ql.Period(term),\n",
    "            euribor_3m,\n",
    "            0.0,\n",
    "            ql.Period('0d'),\n",
    "            discountingTermStructure = zero_curve_from_data('EUR.ESTR.1D'),\n",
    "            )\n",
    "    }\n",
    "    for term in terms\n",
    "]\n",
    "\n",
    "euribor_6m_swaps = [\n",
    "    {\n",
    "        'Term'       : term,\n",
    "        'Instrument' : ql.MakeVanillaSwap(\n",
    "            ql.Period(term),\n",
    "            euribor_6m,\n",
    "            0.0,\n",
    "            ql.Period('0d'),\n",
    "            discountingTermStructure = zero_curve_from_data('EUR.ESTR.1D'),\n",
    "            )\n",
    "    }\n",
    "    for term in terms\n",
    "]"
   ]
  },
  {
   "cell_type": "markdown",
   "metadata": {},
   "source": [
    "### Euribor FRA's\n",
    "\n",
    "Forward Rate Agreement (FRA) instrument construction is less convenient. We define a wrapper function that wraps the date calculations. "
   ]
  },
  {
   "cell_type": "code",
   "execution_count": null,
   "metadata": {},
   "outputs": [],
   "source": [
    "def ql_MakeFra(term, index):\n",
    "    cal = ql.TARGET()  # we set up Euribor instruments\n",
    "    spot          = cal.advance(today, ql.Period(index.fixingDays(), ql.Days), ql.Following)\n",
    "    value_date    = cal.advance(spot, ql.Period(term[:2]), ql.Following)\n",
    "    maturity_date = cal.advance(value_date, ql.Period(term[3:]), ql.Following)\n",
    "    return ql.ForwardRateAgreement(index, value_date, maturity_date, ql.Position.Long, 0.0, 1.0, )\n",
    "\n",
    "\n",
    "terms = [ '0d-3m', '3m-6m', '6m-9m' ]\n",
    "euribor_3m_fras = [\n",
    "    {\n",
    "        'Term'       : term,\n",
    "        'Instrument' : ql_MakeFra(term, euribor_3m)\n",
    "    }\n",
    "    for term in terms\n",
    "]\n",
    "\n",
    "terms = [ '0d-6m', '3m-9m' ]\n",
    "euribor_6m_fras = [\n",
    "    {\n",
    "        'Term'       : term,\n",
    "        'Instrument' : ql_MakeFra(term, euribor_6m)\n",
    "    }\n",
    "    for term in terms\n",
    "]"
   ]
  },
  {
   "cell_type": "markdown",
   "metadata": {},
   "source": [
    "### Euribor Basis Swaps\n",
    "\n",
    "Basis swap construction also needs some properties that need to be specified."
   ]
  },
  {
   "cell_type": "code",
   "execution_count": null,
   "metadata": {},
   "outputs": [],
   "source": [
    "def ql_MakeBasisSwap(term, short_index, long_index):\n",
    "    cal = ql.TARGET()  # we set up Euribor instruments\n",
    "    spot          = cal.advance(today, ql.Period(max(short_index.fixingDays(), long_index.fixingDays()), ql.Days), ql.Following)\n",
    "    maturity_date = cal.advance(spot, ql.Period(term), ql.Following)\n",
    "    #\n",
    "    short_schedule = ql.MakeSchedule(\n",
    "        effectiveDate = spot,\n",
    "        terminationDate = maturity_date,\n",
    "        tenor = short_index.tenor(),\n",
    "        calendar = short_index.fixingCalendar(),\n",
    "        convention = short_index.businessDayConvention(),\n",
    "        rule = ql.DateGeneration.Backward,\n",
    "    )\n",
    "    short_leg = ql.IborLeg([1.0], short_schedule, short_index)\n",
    "    #\n",
    "    long_schedule = ql.MakeSchedule(\n",
    "        effectiveDate = spot,\n",
    "        terminationDate = maturity_date,\n",
    "        tenor = long_index.tenor(),\n",
    "        calendar = long_index.fixingCalendar(),\n",
    "        convention = long_index.businessDayConvention(),\n",
    "        rule = ql.DateGeneration.Backward,\n",
    "    )\n",
    "    long_leg = ql.IborLeg([1.0], long_schedule, long_index)\n",
    "    #\n",
    "    swap = ql.Swap(short_leg, long_leg)\n",
    "    engine = ql.DiscountingSwapEngine(zero_curve_from_data('EUR.ESTR.1D'))\n",
    "    swap.setPricingEngine(engine)\n",
    "    return swap\n",
    "\n",
    "terms = [ '1y', '18m', '2y', '3y', '4y', '5y', '7y', '10y', '15y', '20y', '25y', '30y' ]\n",
    "euribor_3m_6m_swaps = [\n",
    "    {\n",
    "        'Term'       : term,\n",
    "        'Instrument' : ql_MakeBasisSwap(term, euribor_3m, euribor_6m)\n",
    "    }\n",
    "    for term in terms\n",
    "]"
   ]
  },
  {
   "cell_type": "markdown",
   "metadata": {},
   "source": [
    "### Par Rate Calculation\n",
    "\n",
    "From the instruments we can now calculate the par rates."
   ]
  },
  {
   "cell_type": "code",
   "execution_count": null,
   "metadata": {},
   "outputs": [],
   "source": [
    "for swaps in [ eur_str_swaps, euribor_3m_swaps, euribor_6m_swaps ]:\n",
    "    for i in swaps:\n",
    "        i['Quote'] = i['Instrument'].fairRate()\n",
    "\n",
    "for fras in [ euribor_3m_fras, euribor_6m_fras ]:\n",
    "    for i in fras:\n",
    "        i['Quote'] = i['Instrument'].forwardRate().rate()\n",
    "\n",
    "for i in euribor_3m_6m_swaps:\n",
    "    swap = i['Instrument']\n",
    "    bp = 1e-4\n",
    "    i['Quote'] = (swap.legNPV(0) + swap.legNPV(1)) / (-swap.legBPS(0)) * bp"
   ]
  },
  {
   "cell_type": "markdown",
   "metadata": {},
   "source": [
    "We can check the par rates and compare the par rates to our input zero rates."
   ]
  },
  {
   "cell_type": "code",
   "execution_count": null,
   "metadata": {},
   "outputs": [],
   "source": [
    "eur_str_swaps = pd.DataFrame(eur_str_swaps).drop(['Instrument'], axis=1)\n",
    "eur_str_swaps"
   ]
  },
  {
   "cell_type": "code",
   "execution_count": null,
   "metadata": {},
   "outputs": [],
   "source": [
    "euribor_3m_fras = pd.DataFrame(euribor_3m_fras).drop(['Instrument'], axis=1)\n",
    "euribor_3m_fras"
   ]
  },
  {
   "cell_type": "code",
   "execution_count": null,
   "metadata": {},
   "outputs": [],
   "source": [
    "euribor_3m_swaps = pd.DataFrame(euribor_3m_swaps).drop(['Instrument'], axis=1)\n",
    "euribor_3m_swaps"
   ]
  },
  {
   "cell_type": "code",
   "execution_count": null,
   "metadata": {},
   "outputs": [],
   "source": [
    "euribor_6m_fras = pd.DataFrame(euribor_6m_fras).drop(['Instrument'], axis=1)\n",
    "euribor_6m_fras"
   ]
  },
  {
   "cell_type": "code",
   "execution_count": null,
   "metadata": {},
   "outputs": [],
   "source": [
    "euribor_6m_swaps = pd.DataFrame(euribor_6m_swaps).drop(['Instrument'], axis=1)\n",
    "euribor_6m_swaps"
   ]
  },
  {
   "cell_type": "code",
   "execution_count": null,
   "metadata": {},
   "outputs": [],
   "source": [
    "euribor_3m_6m_swaps = pd.DataFrame(euribor_3m_6m_swaps).drop(['Instrument'], axis=1)\n",
    "euribor_3m_6m_swaps"
   ]
  },
  {
   "cell_type": "markdown",
   "metadata": {},
   "source": [
    "Finally, we save the market quotes.\n",
    "\n",
    "These market quotes will be used to illustrate yield curve calibration. This is essentially the reverse procedure of our par rate calculation example."
   ]
  },
  {
   "cell_type": "code",
   "execution_count": null,
   "metadata": {},
   "outputs": [],
   "source": [
    "eur_str_swaps.to_csv('../data/eur_str_swaps.csv', index=0, float_format='%.6f')\n",
    "euribor_3m_fras.to_csv('../data/euribor_3m_fras.csv', index=0, float_format='%.6f')\n",
    "euribor_3m_swaps.to_csv('../data/euribor_3m_swaps.csv', index=0, float_format='%.6f')\n",
    "euribor_6m_fras.to_csv('../data/euribor_6m_fras.csv', index=0, float_format='%.6f')\n",
    "euribor_6m_swaps.to_csv('../data/euribor_6m_swaps.csv', index=0, float_format='%.6f')\n",
    "euribor_3m_6m_swaps.to_csv('../data/euribor_3m_6m_swaps.csv', index=0, float_format='%.6f')"
   ]
  }
 ],
 "metadata": {
  "kernelspec": {
   "display_name": "interest-rate-modelling",
   "language": "python",
   "name": "python3"
  },
  "language_info": {
   "codemirror_mode": {
    "name": "ipython",
    "version": 3
   },
   "file_extension": ".py",
   "mimetype": "text/x-python",
   "name": "python",
   "nbconvert_exporter": "python",
   "pygments_lexer": "ipython3",
   "version": "3.13.2"
  },
  "orig_nbformat": 4
 },
 "nbformat": 4,
 "nbformat_minor": 2
}
