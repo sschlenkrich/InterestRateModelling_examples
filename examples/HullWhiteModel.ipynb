{
 "cells": [
  {
   "cell_type": "markdown",
   "metadata": {},
   "source": [
    "# Hull White Model\n",
    "\n",
    "In this notebook we demonstrate the use of the Hull White model.\n",
    "\n",
    "Furthermore, we use our example implementation to analyse model properties."
   ]
  },
  {
   "cell_type": "markdown",
   "metadata": {},
   "source": [
    "## Model Setup and Analytic Formulas\n",
    "\n",
    "We setup a Hull White model and demonstrate the use of basic analytic functions."
   ]
  },
  {
   "cell_type": "code",
   "execution_count": null,
   "metadata": {},
   "outputs": [],
   "source": [
    "import sys\n",
    "sys.path.append('../') # make sure we can access the src/ folder\n",
    "\n",
    "from matplotlib import cm\n",
    "import matplotlib.pyplot as plt\n",
    "import numpy as np\n",
    "import pandas as pd\n",
    "from scipy.optimize import brentq\n",
    "\n",
    "from src.hull_white_model import HullWhiteModel\n",
    "from src.monte_carlo_simulation import MonteCarloSimulation\n",
    "from src.yieldcurve import YieldCurve"
   ]
  },
  {
   "cell_type": "markdown",
   "metadata": {},
   "source": [
    "As first input we need to specify the initial yield curve."
   ]
  },
  {
   "cell_type": "code",
   "execution_count": null,
   "metadata": {},
   "outputs": [],
   "source": [
    "terms = [    '1y',    '2y',    '3y',    '4y',    '5y',    '6y',    '7y',    '8y',    '9y',   '10y',   '12y',   '15y',   '20y',   '25y',   '30y', '50y'   ] \n",
    "rates = [ 2.70e-2, 2.75e-2, 2.80e-2, 3.00e-2, 3.36e-2, 3.68e-2, 3.97e-2, 4.24e-2, 4.50e-2, 4.75e-2, 4.75e-2, 4.70e-2, 4.50e-2, 4.30e-2, 4.30e-2, 4.30e-2 ] \n",
    "\n",
    "disc_curve = YieldCurve(terms, rates)"
   ]
  },
  {
   "cell_type": "markdown",
   "metadata": {},
   "source": [
    "Then we also specify the model parameters mean reversion and short rate volatility."
   ]
  },
  {
   "cell_type": "code",
   "execution_count": null,
   "metadata": {},
   "outputs": [],
   "source": [
    "mean_reversion = 0.03\n",
    "volatility_times  = np.array([ 1.0, 2.0, 3.0, 5.0, 7.0, 10.0, ])\n",
    "volatility_values = np.array([ 90., 80., 70., 60., 50., 40., ]) * 1e-4"
   ]
  },
  {
   "cell_type": "markdown",
   "metadata": {},
   "source": [
    "Mean reversion is constant. Short rate volatility is a backward flat interpolated curve."
   ]
  },
  {
   "cell_type": "code",
   "execution_count": null,
   "metadata": {},
   "outputs": [],
   "source": [
    "plt.figure(figsize=(8,5))\n",
    "plt.step(volatility_times, volatility_values, '*-')\n",
    "plt.xlim((0.0, volatility_times[-1]))\n",
    "plt.ylim((0.0, 0.01))\n",
    "plt.xlabel(r'$t$')\n",
    "plt.ylabel(r'$\\sigma(t)$')\n"
   ]
  },
  {
   "cell_type": "markdown",
   "metadata": {},
   "source": [
    "With yield curve, mean reversion, and piece-wise constant volatility parameter we can construct a Hull White model."
   ]
  },
  {
   "cell_type": "code",
   "execution_count": null,
   "metadata": {},
   "outputs": [],
   "source": [
    "model = HullWhiteModel(disc_curve, mean_reversion, volatility_times, volatility_values)"
   ]
  },
  {
   "cell_type": "markdown",
   "metadata": {},
   "source": [
    "With the given model we can now apply our analytic functions in the Hull White model."
   ]
  },
  {
   "cell_type": "code",
   "execution_count": null,
   "metadata": {},
   "outputs": [],
   "source": [
    "t = 10.0\n",
    "T = 20.0\n",
    "x = np.linspace(-0.10, 0.10, 101)\n",
    "\n",
    "zb = model.zero_bond(t, x, T)\n",
    "\n",
    "plt.figure(figsize=(8,5))\n",
    "plt.plot(x, zb)\n",
    "plt.xlabel('state variable $x$')\n",
    "plt.ylabel('zero coupon bond price $P(t,T)$')\n",
    "plt.title('Zero coupon bond price for $t=10$ and $T=20$')"
   ]
  },
  {
   "cell_type": "markdown",
   "metadata": {},
   "source": [
    "Similarly, we can calculate zero coupon bond options. Note that also for zero bond option put-call parity holds."
   ]
  },
  {
   "cell_type": "code",
   "execution_count": null,
   "metadata": {},
   "outputs": [],
   "source": [
    "strike_prices = np.linspace(0.4, 0.8, 101)\n",
    "\n",
    "zb_call = np.array([model.zero_bond_option(t, T, K, call_or_put=+1) for K in strike_prices])\n",
    "zb_put  = np.array([model.zero_bond_option(t, T, K, call_or_put=-1) for K in strike_prices])\n",
    "\n",
    "fwd_bond = disc_curve.discount(T) / disc_curve.discount(t)\n",
    "fwd_call = model.zero_bond_option(t, T, fwd_bond, call_or_put=+1)\n",
    "\n",
    "plt.figure(figsize=(8,5))\n",
    "plt.plot(strike_prices, zb_call, 'r-', label='call option')\n",
    "plt.plot(strike_prices, zb_put,  'b-', label='put option')\n",
    "plt.plot([fwd_bond], [fwd_call], 'go', label='put/call parity price')\n",
    "plt.xlabel('strike price')\n",
    "plt.ylabel('zero bond option price')\n",
    "plt.legend()\n",
    "plt.title('Zero bond option price for $t=10$ and $T=20$')"
   ]
  },
  {
   "cell_type": "markdown",
   "metadata": {},
   "source": [
    "Also coupon bond options can be calculated."
   ]
  },
  {
   "cell_type": "code",
   "execution_count": null,
   "metadata": {},
   "outputs": [],
   "source": [
    "expiry_time = 10.0\n",
    "pay_times  = np.linspace(11.0, 20.0, 10)\n",
    "cash_flows = np.array([ 0.03 ] * len(pay_times))   # 3% annual coupon\n",
    "cash_flows[-1] += 1.0  # final notional repayment\n",
    "\n",
    "flows = pd.DataFrame()\n",
    "flows['pay times']  = pay_times\n",
    "flows['cash flows'] = cash_flows\n",
    "display(flows)\n",
    "\n",
    "strike_prices = np.linspace(0.7, 1.1, 101)\n",
    "cb_call = np.array([ model.coupon_bond_option(expiry_time, pay_times, cash_flows, K, call_or_put=+1) for K in strike_prices ])\n",
    "cb_put  = np.array([ model.coupon_bond_option(expiry_time, pay_times, cash_flows, K, call_or_put=-1) for K in strike_prices ])\n",
    "\n",
    "plt.figure(figsize=(8,5))\n",
    "plt.plot(strike_prices, cb_call, 'r-', label='call option')\n",
    "plt.plot(strike_prices, cb_put,  'b-', label='put option')\n",
    "plt.xlabel('strike price')\n",
    "plt.ylabel('coupon bond option price')\n",
    "plt.legend()\n",
    "plt.title('Coupon bond option price')"
   ]
  },
  {
   "cell_type": "markdown",
   "metadata": {},
   "source": [
    "## Impact of Volatility and Mean Reversion\n",
    "\n",
    "In this section we analyse the impact of mean reversion and short rate volatility on model properties."
   ]
  },
  {
   "cell_type": "markdown",
   "metadata": {},
   "source": [
    "### Mean Reversion and Simulated State Variables\n",
    "\n",
    "As a first step we want to analyse how mean reversion $a$ impacts paths of the state variable $x(t)$.\n",
    "\n",
    "Mean reversion also impacts the overall variance of $x(t)$. We want to make observations for different mean reversion values comparable. To achieve this, we *calibrate* short rate volatility such that we have 100bp *flat volatility* in 5y and 10y. \n",
    "\n"
   ]
  },
  {
   "cell_type": "code",
   "execution_count": null,
   "metadata": {},
   "outputs": [],
   "source": [
    "def calibrated_model(curve, mean_reversion, T0, T1, flat_vol):\n",
    "    def obj1(sigma1):\n",
    "        model = HullWhiteModel(curve, mean_reversion, np.array([T0, T1]), np.array([sigma1, sigma1]))\n",
    "        return model.variance(0.0,T0) - flat_vol**2 * T0\n",
    "    sigma1 = brentq(obj1,1.0e-4,1.0e-1)\n",
    "    #\n",
    "    def obj2(sigma2):\n",
    "        model = HullWhiteModel(curve, mean_reversion, np.array([T0, T1]), np.array([sigma1, sigma2]))\n",
    "        return model.variance(0,T1) - flat_vol**2 * T1\n",
    "    sigma2 = brentq(obj2,1.0e-4,1.0e-1)\n",
    "    #\n",
    "    return HullWhiteModel(curve, mean_reversion, np.array([T0, T1]), np.array([sigma1, sigma2]))"
   ]
  },
  {
   "cell_type": "markdown",
   "metadata": {},
   "source": [
    "For such a calibrated model we can now analyse sampled paths."
   ]
  },
  {
   "cell_type": "code",
   "execution_count": null,
   "metadata": {},
   "outputs": [],
   "source": [
    "flat_curve = YieldCurve(['30y'],[0.03])\n",
    "\n",
    "mean_reversions = [ -0.05, 1e-4, 0.05 ]\n",
    "times = np.linspace(0.0, 10.0, 101)\n",
    "n_paths = 10\n",
    "\n",
    "fig, axs = plt.subplots(1, len(mean_reversions), sharey=True)\n",
    "fig.set_size_inches(12, 5)\n",
    "for a, ax in zip(mean_reversions,axs):\n",
    "    model = calibrated_model(flat_curve, a, T0=5.0, T1=10.0, flat_vol=0.01)\n",
    "    sim = MonteCarloSimulation(model, times, n_paths, seed=1234)\n",
    "    for path in sim.X[:,0,:].T:\n",
    "        ax.plot(times, path)\n",
    "        ax.set_xlabel('simulation time $t$')\n",
    "        ax.set_ylabel('state variable $x(t)$')\n",
    "        ax.set_title('$a = %.2f$' % a)\n"
   ]
  },
  {
   "cell_type": "markdown",
   "metadata": {},
   "source": [
    "Some runs of above simulation demonstrate, that for higher mean reversion we observe *more volatility* between 5y and 10y compared to lower mean reversion."
   ]
  },
  {
   "cell_type": "markdown",
   "metadata": {},
   "source": [
    "We can make above observation more clear by analysing forward volatility\n",
    "$$\n",
    "  \\sigma_{\\text{Fwd}}(T_0, T_1) =\n",
    "  \\sqrt{\\frac{\\text{Var}\\left( x(T_1) | x(T_0) \\right)}{T_1 - T_0}} =\n",
    "  \\sqrt{\\frac{y(T_1) - G'(T_0,T_1)^2y(T_0)}{T_1 - T_0}}\n",
    "$$\n",
    "for given (fixed) values $y(T_0)$ and $y(T_1)$."
   ]
  },
  {
   "cell_type": "code",
   "execution_count": null,
   "metadata": {},
   "outputs": [],
   "source": [
    "flat_vol = 1.0e-2\n",
    "T0 = 5.0\n",
    "T1 = 10.0\n",
    "y0 = flat_vol**2 * T0\n",
    "y1 = flat_vol**2 * T1\n",
    "\n",
    "sigma_fwd = lambda a : np.sqrt((y1 - np.exp(-a*(T1-T0))*y0)/(T1-T0))\n",
    "\n",
    "mean_reversions = np.linspace(-0.1,0.1,101)\n",
    "\n",
    "plt.figure(figsize=(8,5))\n",
    "plt.plot(mean_reversions, sigma_fwd(mean_reversions)*1e+4)\n",
    "plt.xlabel('mean reversion a')\n",
    "plt.ylabel('forward volatility (bp)')\n",
    "plt.title('T0 = 5y, T1 = 10y, spot sigma = 100bp')"
   ]
  },
  {
   "cell_type": "markdown",
   "metadata": {},
   "source": [
    "### Modelled Yield Curves\n",
    "\n",
    "We are particularly interested in which types of future yield curve can be modelled.\n",
    "\n",
    "For that purpose we analyse forward rates $f(t,T)$ where observation time $t=5y$."
   ]
  },
  {
   "cell_type": "code",
   "execution_count": null,
   "metadata": {},
   "outputs": [],
   "source": [
    "t = 5.0\n",
    "dT = np.linspace(0.0, 30.0, 301)\n",
    "states = [ -0.10, -0.05, 0.0, 0.05, 0.1 ]\n",
    "mean_reversions = [ -0.05, 1e-4, 0.05 ]\n",
    "\n",
    "model = HullWhiteModel(disc_curve, a, np.array([0.0]), np.array([0.01]))\n",
    "\n",
    "fig, axs = plt.subplots(1, len(mean_reversions))\n",
    "fig.set_size_inches(12, 5)\n",
    "for a, ax in zip(mean_reversions,axs):\n",
    "    model = HullWhiteModel(disc_curve, a, np.array([0.0]), np.array([0.01]))\n",
    "    ax.plot(0.0 + dT, [model.yield_curve.forwardRate(T) for T in 0.0+dT], label='$f(0,T)$' )\n",
    "    for x in reversed(states):\n",
    "        ax.plot(t + dT, [model.forward_rate(t, x, t+d) for d in dT], label='$x=%4.2f$' % x)\n",
    "    ax.legend()\n",
    "    ax.set_xlabel('maturity $T$')\n",
    "    ax.set_ylabel('forward rate $f(t,T)$')\n",
    "    ax.set_title('$a = %.2f$' % a)\n",
    "plt.tight_layout()"
   ]
  },
  {
   "cell_type": "markdown",
   "metadata": {},
   "source": [
    "## Model-implied Volatilities\n",
    "\n",
    "Analysing and understanding model-implied volatilities is important because it shows which market prices can be matched with a model.\n",
    "\n",
    "We consider normal model-implied volatilities. A normal model-implied volatility is obtained by inverting Bachelier's formula given a forward price of a European swaption that is calculated based on a Hull-White model.\n",
    "\n",
    "In order to calculate model-implied volatilities we need the following steps:\n",
    "\n",
    "  1. A European swaption reference instrument.\n",
    "\n",
    "  2. A Hull-White model with initial yield curve, mean reversion and short rate volatilities.\n",
    "\n",
    "  3. The representation of the European swaption as coupon bond option.\n",
    "\n",
    "  4. Corresponding Hull-White model coupon bond option price, swaption annuity and forward swap rate.\n",
    "\n",
    "  5. Inversion of Bachelier formula.\n",
    "\n",
    "We illustrate it for a single European swaption first. W.l.o.g. we set projection curve equal to discount curve."
   ]
  },
  {
   "cell_type": "code",
   "execution_count": null,
   "metadata": {},
   "outputs": [],
   "source": [
    "from src.swaption import create_swaption\n",
    "\n",
    "# swaption instrument\n",
    "swaption = create_swaption('5y', '10y', disc_curve, disc_curve)\n",
    "\n",
    "# model\n",
    "mean_reversion = 0.03\n",
    "volatility_times  = np.array([ 1.0, 2.0, 3.0, 5.0, 7.0, 10.0, ])\n",
    "volatility_values = np.array([ 90., 80., 70., 60., 50., 40., ]) * 1e-4\n",
    "model = HullWhiteModel(disc_curve, mean_reversion, volatility_times, volatility_values)"
   ]
  },
  {
   "cell_type": "markdown",
   "metadata": {},
   "source": [
    "The bond option representation is provided by our swaption wrapper class."
   ]
  },
  {
   "cell_type": "code",
   "execution_count": null,
   "metadata": {},
   "outputs": [],
   "source": [
    "option = swaption.bond_option_details()\n",
    "display(option)"
   ]
  },
  {
   "cell_type": "markdown",
   "metadata": {},
   "source": [
    "This allows calculating the Hull-White model price."
   ]
  },
  {
   "cell_type": "code",
   "execution_count": null,
   "metadata": {},
   "outputs": [],
   "source": [
    "npv = model.coupon_bond_option(\n",
    "    option['expiry_time'],\n",
    "    option['pay_times'],\n",
    "    option['cash_flows'],\n",
    "    option['strike_price'],\n",
    "    option['call_or_put']\n",
    ")\n",
    "display(npv)"
   ]
  },
  {
   "cell_type": "markdown",
   "metadata": {},
   "source": [
    "Annuity, forward swap rate and option type can be obtained from the swaption instrument"
   ]
  },
  {
   "cell_type": "code",
   "execution_count": null,
   "metadata": {},
   "outputs": [],
   "source": [
    "annuity = swaption.annuity()\n",
    "fwd_swap_rate = swaption.fairRate()\n",
    "call_or_put = swaption.call_or_put()\n",
    "display(annuity, fwd_swap_rate, call_or_put)"
   ]
  },
  {
   "cell_type": "markdown",
   "metadata": {},
   "source": [
    "Finally, we calculate the Normal implied volatility."
   ]
  },
  {
   "cell_type": "code",
   "execution_count": null,
   "metadata": {},
   "outputs": [],
   "source": [
    "from src.helpers import bachelier_implied_vol\n",
    "\n",
    "implied_vol = bachelier_implied_vol(\n",
    "    npv/annuity,\n",
    "    swaption.fixed_rate(),\n",
    "    fwd_swap_rate,\n",
    "    option['expiry_time'],\n",
    "    call_or_put,\n",
    "    )\n",
    "    \n",
    "display(implied_vol*1e+4)"
   ]
  },
  {
   "cell_type": "markdown",
   "metadata": {},
   "source": [
    "We get an implied volatility of about 60p for our example swaption and model."
   ]
  },
  {
   "cell_type": "markdown",
   "metadata": {},
   "source": [
    "In order to simplify our analysis we wrap implied volatility calculation into a function."
   ]
  },
  {
   "cell_type": "code",
   "execution_count": null,
   "metadata": {},
   "outputs": [],
   "source": [
    "def model_implied_volatility(model, expiry_term='10y', swap_term='10y', strike='ATM'):\n",
    "    swaption = create_swaption(expiry_term, swap_term, model.yield_curve, model.yield_curve, strike)\n",
    "    option = swaption.bond_option_details()\n",
    "    fwd_price = model.coupon_bond_option(\n",
    "        option['expiry_time'],\n",
    "        option['pay_times'],\n",
    "        option['cash_flows'],\n",
    "        option['strike_price'],\n",
    "        option['call_or_put']\n",
    "        ) / swaption.annuity()\n",
    "    implied_vol = bachelier_implied_vol(\n",
    "        fwd_price,\n",
    "        swaption.fixed_rate(),\n",
    "        swaption.fairRate(),\n",
    "        option['expiry_time'],\n",
    "        swaption.call_or_put(),\n",
    "        )\n",
    "    return implied_vol\n"
   ]
  },
  {
   "cell_type": "code",
   "execution_count": null,
   "metadata": {},
   "outputs": [],
   "source": [
    "model_implied_volatility(model, '5y', '10y')"
   ]
  },
  {
   "cell_type": "markdown",
   "metadata": {},
   "source": [
    "### Volatility Skew and Smile\n",
    "\n",
    "Volatility skew and smile is the behaviour of implied volatilities of an option for different strikes.\n",
    "\n",
    "We pick a 10y (expiry) into 10y (swap term) swaption and analyse model-implied volatility smile for Hull White models with (constant) short rate volatility ranging from 50bp to 125bp and mean reversion ranging from -5% to 5%. "
   ]
  },
  {
   "cell_type": "code",
   "execution_count": null,
   "metadata": {},
   "outputs": [],
   "source": [
    "expiry_term = '10y'\n",
    "swap_term = '10y'\n",
    "\n",
    "swaption = create_swaption(expiry_term, swap_term, disc_curve, disc_curve)"
   ]
  },
  {
   "cell_type": "markdown",
   "metadata": {},
   "source": [
    "Swaption strikes (i.e. the underlying swap fixed rate) is chosen relative to at-the-money."
   ]
  },
  {
   "cell_type": "code",
   "execution_count": null,
   "metadata": {},
   "outputs": [],
   "source": [
    "relative_strkes = np.linspace(-0.03, 0.03, 21)\n",
    "\n",
    "fwd_rate = swaption.fairRate()\n",
    "absolute_strikes = fwd_rate + relative_strkes"
   ]
  },
  {
   "cell_type": "markdown",
   "metadata": {},
   "source": [
    "Now we can specify our volatility and mean reversion scenarios and plot implied volatilities."
   ]
  },
  {
   "cell_type": "code",
   "execution_count": null,
   "metadata": {},
   "outputs": [],
   "source": [
    "mean_reversions = [ -0.05, 1e-4, 0.05 ]\n",
    "short_rate_vols = np.array([ 50, 75, 100, 125 ]) * 1e-4\n",
    "\n",
    "fig, axs = plt.subplots(1, len(mean_reversions))\n",
    "fig.set_size_inches(12, 5)\n",
    "for a, ax in zip(mean_reversions,axs):\n",
    "    for sigma in short_rate_vols:\n",
    "        model = HullWhiteModel(disc_curve, a, np.array([0.0]), np.array([sigma]))\n",
    "        vols = np.array([\n",
    "            model_implied_volatility(model, expiry_term, swap_term, K) * 1e+4\n",
    "            for K in absolute_strikes\n",
    "        ])\n",
    "        ax.plot(relative_strkes, vols, label='$\\sigma=%.0f$bp' % (sigma*1e+4))\n",
    "    ax.legend()\n",
    "    ax.set_xlabel('relative strike')\n",
    "    ax.set_ylabel('model-implied volatility (bp)')\n",
    "    ax.set_title('$a=%.2f$' % a)\n",
    "    ax.set_ylim((0, 250))\n",
    "plt.tight_layout()"
   ]
  },
  {
   "cell_type": "markdown",
   "metadata": {},
   "source": [
    "As a result we find that \n",
    "\n",
    "  - with a Hull White model we can only model flat volatility smile and\n",
    "\n",
    "  - model-implied volatility decreases if mean reversion increases."
   ]
  },
  {
   "cell_type": "markdown",
   "metadata": {},
   "source": [
    "### At-the-money Volatility Surface\n",
    "\n",
    "In this analysis step we focus on the following question: How does the shape of at-the-money volatility surface change if mean reversion changes.\n",
    "\n",
    "European swaptions are represented by option expiry and swap term. Most relevant (and liquidly traded) options are at-the-money options where strike equals the forward swap rate.\n",
    "\n",
    "An at-the-money Swaption volatility surface is spanned by the dimension expiry and swap term where the strike rate is always set equal to the corresponding forward swap rate.\n",
    "\n",
    "Again, we want to make results for various mean reversion parameters comparable. Therefore we *fix* the 10y into 10y swaption model implied volatility at 100bp. And calibrate a constant short rate volatility to match the 10y into 10y swaption volatility."
   ]
  },
  {
   "cell_type": "code",
   "execution_count": null,
   "metadata": {},
   "outputs": [],
   "source": [
    "def model_from_swaption(swaption, mean_reversion):\n",
    "    disc_curve = swaption.underlying_swap.discYieldCurve\n",
    "    swaption_npv = swaption.npv()\n",
    "    option = swaption.bond_option_details()\n",
    "    def obj(sigma):\n",
    "        model = HullWhiteModel(disc_curve, mean_reversion, np.array([0.0]), np.array([sigma]))\n",
    "        model_price = model.coupon_bond_option(\n",
    "            option['expiry_time'],\n",
    "            option['pay_times'],\n",
    "            option['cash_flows'],\n",
    "            option['strike_price'],\n",
    "            option['call_or_put']\n",
    "            )\n",
    "        return model_price - swaption_npv\n",
    "    sigma = brentq(obj,1.0e-4,1.0e-1)\n",
    "    return HullWhiteModel(disc_curve, mean_reversion, np.array([0.0]), np.array([sigma]))"
   ]
  },
  {
   "cell_type": "markdown",
   "metadata": {},
   "source": [
    "We set a list of expiries and swap terms, calculate implied volatilities and plot results."
   ]
  },
  {
   "cell_type": "code",
   "execution_count": null,
   "metadata": {},
   "outputs": [],
   "source": [
    "swaption = create_swaption('10y', '10y', disc_curve, disc_curve, normalVolatility=0.01)\n",
    "\n",
    "expiry_terms = np.arange(1, 21, 1)\n",
    "swap_terms = np.arange(1, 21, 1)\n",
    "\n",
    "mean_reversions = [ -0.05, 1e-4, 0.05 ]\n",
    "\n",
    "fig, axs = plt.subplots(1, len(mean_reversions), subplot_kw=dict(projection='3d'))\n",
    "fig.set_size_inches(12, 8)\n",
    "for a, ax in zip(mean_reversions,axs):\n",
    "    model = model_from_swaption(swaption, a)\n",
    "    print('a = %.2f, sigma = %.4f' % (a, model.volatility_values[0]))\n",
    "    vols = np.array([\n",
    "        [ model_implied_volatility(model, str(e)+'y', str(s)+'y') for s in swap_terms]\n",
    "        for e in expiry_terms\n",
    "    ]) * 1e+4\n",
    "    x, y = np.meshgrid(expiry_terms, swap_terms)\n",
    "    ax.plot_surface(x, y, vols, cmap=cm.coolwarm, linewidth=0, antialiased=False)\n",
    "    ax.set_xlim(0, 20)\n",
    "    ax.set_ylim(0, 20)\n",
    "    ax.set_zlim(50, 150)\n",
    "    ax.set_xticks([0, 5, 10, 15, 20])\n",
    "    ax.set_yticks([0, 5, 10, 15, 20])\n",
    "    ax.set_xlabel('expiry terms (y)')\n",
    "    ax.set_ylabel('swap terms (y)')\n",
    "    ax.set_zlabel('model-implied normal volatility (bp)')\n",
    "    ax.set_title('$a=%.2f$' % a)\n",
    "plt.tight_layout()"
   ]
  },
  {
   "cell_type": "markdown",
   "metadata": {},
   "source": [
    "We find that\n",
    "\n",
    "  - mean reversion impacts at-the-money volatilities in expiry term and swap term dimension,\n",
    "  - small/zero mean reversion yields a flat at-the-money volatility surface."
   ]
  }
 ],
 "metadata": {
  "kernelspec": {
   "display_name": "interest-rate-modelling",
   "language": "python",
   "name": "python3"
  },
  "language_info": {
   "codemirror_mode": {
    "name": "ipython",
    "version": 3
   },
   "file_extension": ".py",
   "mimetype": "text/x-python",
   "name": "python",
   "nbconvert_exporter": "python",
   "pygments_lexer": "ipython3",
   "version": "3.13.2"
  },
  "orig_nbformat": 4
 },
 "nbformat": 4,
 "nbformat_minor": 2
}
