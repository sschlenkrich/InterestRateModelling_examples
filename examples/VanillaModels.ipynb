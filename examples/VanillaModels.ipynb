{
 "cells": [
  {
   "cell_type": "markdown",
   "metadata": {},
   "source": [
    "# VanillaModels\n",
    "\n",
    "In this notebook we illustrate the properties of basic models for Vanilla options.\n",
    "\n",
    "Vanilla options essentially depend on the terminal distribution of a reference rate. In our case the reference rate is a forward swap rate (or alternatively a Libor/Euribor rate). Distributions are calculated in the *annuity measure* such that the forward swap rate is a martingale."
   ]
  },
  {
   "cell_type": "code",
   "execution_count": null,
   "metadata": {},
   "outputs": [],
   "source": [
    "import sys\n",
    "sys.path.append('../')\n",
    "\n",
    "import matplotlib.pyplot as plt\n",
    "import numpy as np\n",
    "from scipy.stats import lognorm\n",
    "from scipy.stats import norm"
   ]
  },
  {
   "cell_type": "markdown",
   "metadata": {},
   "source": [
    "We set some parameters and function used across all models."
   ]
  },
  {
   "cell_type": "code",
   "execution_count": null,
   "metadata": {},
   "outputs": [],
   "source": [
    "S0 = 0.0050  # 0.50% initial forward swap rate\n",
    "T  = 1.0     # 1y\n",
    "#\n",
    "ST = np.linspace(-0.01, 0.02, 201)"
   ]
  },
  {
   "cell_type": "code",
   "execution_count": null,
   "metadata": {},
   "outputs": [],
   "source": [
    "def plot_distributions(dists, styles, labels, title ):\n",
    "    fig_size = (8, 5) # inches\n",
    "    plt.figure(figsize=fig_size)\n",
    "    for dist, style, label in zip(dists, styles, labels):\n",
    "        plt.plot(ST, dist.pdf(ST), style, label=label)\n",
    "        plt.ylabel('density')\n",
    "        plt.xlabel('swap rate')\n",
    "    plt.title(title)"
   ]
  },
  {
   "cell_type": "markdown",
   "metadata": {},
   "source": [
    "## Normal Model\n",
    "\n",
    "Swap rate assumed follow normal distribution,\n",
    "$$\n",
    "  S(T) \\sim {\\cal N}\\left( S(t), \\sigma_{\\text{N}}^2 \\left(T - t\\right)  \\right).\n",
    "$$"
   ]
  },
  {
   "cell_type": "code",
   "execution_count": null,
   "metadata": {},
   "outputs": [],
   "source": [
    "sigma_normal = 0.00313 # 31.3bp\n",
    "normal_model_dist = norm(loc=S0, scale=np.sqrt(sigma_normal**2 * T) )\n",
    "#\n",
    "plot_distributions([normal_model_dist], ['b'], [''], 'Normal Model Distribution')"
   ]
  },
  {
   "cell_type": "markdown",
   "metadata": {},
   "source": [
    "We calculate the forward price of an at-the-money call option with that Normal model."
   ]
  },
  {
   "cell_type": "code",
   "execution_count": null,
   "metadata": {},
   "outputs": [],
   "source": [
    "from src.helpers import bachelier\n",
    "\n",
    "fwd_price_normal = bachelier(S0, S0, sigma_normal, T, callOrPut=1)\n",
    "display(fwd_price_normal)"
   ]
  },
  {
   "cell_type": "markdown",
   "metadata": {},
   "source": [
    "## Log-normal Model\n",
    "\n",
    "We assume that log-swap rate follows normal distribution,\n",
    "$$\n",
    "  \\ln\\left(S(T)\\right) \\sim {\\cal N}\\left( \n",
    "    \\ln\\left(S(t)\\right) - \\frac{1}{2}\\sigma_{\\text{LN}}^2 (T-t), \n",
    "    \\sigma_{\\text{LN}}^2 \\left(T - t\\right)\n",
    "    \\right).\n",
    "$$"
   ]
  },
  {
   "cell_type": "code",
   "execution_count": null,
   "metadata": {},
   "outputs": [],
   "source": [
    "sigma_lognormal = 0.637  # 63.7%\n",
    "lognormal_model_dist = lognorm(\n",
    "    s = np.sqrt(sigma_lognormal**2 * T),\n",
    "    scale = np.exp(np.log(S0) - 0.5 * sigma_lognormal**2 * T)\n",
    ")\n",
    "#\n",
    "plot_distributions([lognormal_model_dist], ['r'], [''], 'Log-ormal Model Distribution')"
   ]
  },
  {
   "cell_type": "markdown",
   "metadata": {},
   "source": [
    "We calculate the forward price of an at-the-money call option with that Log-Normal model."
   ]
  },
  {
   "cell_type": "code",
   "execution_count": null,
   "metadata": {},
   "outputs": [],
   "source": [
    "from src.helpers import black\n",
    "\n",
    "fwd_price_lognormal = black(S0, S0, sigma_lognormal, T, callOrPut=1)\n",
    "display(fwd_price_lognormal)"
   ]
  },
  {
   "cell_type": "markdown",
   "metadata": {},
   "source": [
    "## Shifted Log-normal Model\n",
    "\n",
    "We assume that the log of the shifted swap rate follows a normal distribution,\n",
    "$$\n",
    "  \\ln\\left(S(T) + \\lambda\\right) \\sim {\\cal N}\\left( \n",
    "    \\ln\\left(S(t) + \\lambda\\right) - \\frac{1}{2}\\sigma_{\\text{SLN}}^2 (T-t), \n",
    "    \\sigma_{\\text{SLN}}^2 \\left(T - t\\right)\n",
    "    \\right).\n",
    "$$"
   ]
  },
  {
   "cell_type": "code",
   "execution_count": null,
   "metadata": {},
   "outputs": [],
   "source": [
    "shift_lambda = 0.0050\n",
    "sigma_shifted_lognormal = 0.315  # 31.5%\n",
    "shifted_lognormal_model_dist = lognorm(\n",
    "    s = np.sqrt(sigma_shifted_lognormal**2 * T),\n",
    "    scale = np.exp(np.log(S0 + shift_lambda) - 0.5 * sigma_shifted_lognormal**2 * T),\n",
    "    loc = -shift_lambda\n",
    ")\n",
    "#\n",
    "plot_distributions([shifted_lognormal_model_dist], ['g'], [''], 'Shifted Log-normal Model Distribution')"
   ]
  },
  {
   "cell_type": "markdown",
   "metadata": {},
   "source": [
    "We calculate the forward price of an at-the-money call option with that Shifted Log-Normal model."
   ]
  },
  {
   "cell_type": "code",
   "execution_count": null,
   "metadata": {},
   "outputs": [],
   "source": [
    "fwd_price_lognormal = black(S0 + shift_lambda, S0 + shift_lambda, sigma_shifted_lognormal, T, callOrPut=1)\n",
    "display(fwd_price_lognormal)"
   ]
  },
  {
   "cell_type": "markdown",
   "metadata": {},
   "source": [
    "## Comparison of Distributions\n",
    "\n",
    "We compare the densities of normal, log-normal and shifted log-normal distributions.\n",
    "\n",
    "The volatility parameters $\\sigma_{\\text{N}}$, $\\sigma_{\\text{LN}}$ and $\\sigma_{\\text{SLN}}$ are *calibrated* such that for all models the forward prices of at-the-money call options coincide (up to rounding differences), i.e.\n",
    "$$\n",
    "  \\mathbb{E}_t^A\\left[ \\left[S(T) - S(t)\\right]^+ \\right] = 0.125\\%.\n",
    "$$  "
   ]
  },
  {
   "cell_type": "code",
   "execution_count": null,
   "metadata": {},
   "outputs": [],
   "source": [
    "plot_distributions(\n",
    "    [normal_model_dist, lognormal_model_dist, shifted_lognormal_model_dist],\n",
    "    ['b', 'r', 'g'], \n",
    "    ['Normal model', 'Log-normal model', 'Shifted Log-normal model'], \n",
    "    'Comparison of Model Distributions'\n",
    "    )\n",
    "plt.legend()"
   ]
  },
  {
   "cell_type": "markdown",
   "metadata": {},
   "source": [
    "## Implied Volatilities\n",
    "\n",
    "Implied volatilities are an important concept to analyse market prices of Vanilla option and to compare terminal distributions of different models.\n",
    "\n",
    "In rates markets and major currencies Normal implied volatilities are most commonly used. This is why we here also compare *Normal implied volatilities* for our three basic models for Vanilla options."
   ]
  },
  {
   "cell_type": "markdown",
   "metadata": {},
   "source": [
    "In order to calculate implied volatilities we first need reference forward option prices. We calculate call option prices using Normal, Log-normal and Shifted Log-normal model."
   ]
  },
  {
   "cell_type": "code",
   "execution_count": null,
   "metadata": {},
   "outputs": [],
   "source": [
    "strikes = np.linspace(-0.01, 0.02, 301)\n",
    "call_prices_normal = bachelier(strikes, S0, sigma_normal, T, callOrPut=1)\n",
    "call_prices_lognormal = black(strikes, S0, sigma_lognormal, T, callOrPut=1)\n",
    "call_prices_shifted_lognormal = black(strikes + shift_lambda, S0 + shift_lambda, sigma_shifted_lognormal, T, callOrPut=1)"
   ]
  },
  {
   "cell_type": "markdown",
   "metadata": {},
   "source": [
    "We can also plot and compare the prices from different models."
   ]
  },
  {
   "cell_type": "code",
   "execution_count": null,
   "metadata": {},
   "outputs": [],
   "source": [
    "plt.figure(figsize=(8,5))\n",
    "plt.plot(strikes, call_prices_normal, 'b', label='Normal model')\n",
    "plt.plot(strikes, call_prices_lognormal, 'r', label='Log-normal model')\n",
    "plt.plot(strikes, call_prices_shifted_lognormal, 'g', label='Shifted Log-normal model')\n",
    "plt.legend()\n",
    "plt.ylabel('strike')\n",
    "plt.xlabel('forward price')\n",
    "plt.title('Comparison of Forward Call Prices')"
   ]
  },
  {
   "cell_type": "markdown",
   "metadata": {},
   "source": [
    "Howerver, comparing option prices directly often is not very helpful because it is hard to *see* differences and deduce model properties from the prices.\n",
    "\n",
    "This is also a motivation or reason for using implied volatilities to compare option prices and models."
   ]
  },
  {
   "cell_type": "markdown",
   "metadata": {},
   "source": [
    "We said we choose *Normal implied volatilities* as our common representation of option prices. So, let us calculate the implied volatilities for the reference prices originating from our three basic models."
   ]
  },
  {
   "cell_type": "code",
   "execution_count": null,
   "metadata": {},
   "outputs": [],
   "source": [
    "from src.helpers import bachelier_implied_vol\n",
    "\n",
    "normal_implied_vol_from_normal_model = np.array([\n",
    "    bachelier_implied_vol(P, K, S0, T, callOrPut=1) for P, K in zip(call_prices_normal, strikes) ])\n",
    "\n",
    "normal_implied_vol_from_lognormal_model = np.array([\n",
    "    bachelier_implied_vol(P, K, S0, T, callOrPut=1) for P, K in zip(call_prices_lognormal, strikes) ])\n",
    "    \n",
    "normal_implied_vol_from_shifted_lognormal_model = np.array([\n",
    "    bachelier_implied_vol(P, K, S0, T, callOrPut=1) for P, K in zip(call_prices_shifted_lognormal, strikes) ])"
   ]
  },
  {
   "cell_type": "markdown",
   "metadata": {},
   "source": [
    "Now, we can compare the resulting implied volatilities."
   ]
  },
  {
   "cell_type": "code",
   "execution_count": null,
   "metadata": {},
   "outputs": [],
   "source": [
    "plt.figure(figsize=(8,5))\n",
    "plt.plot(strikes, normal_implied_vol_from_normal_model, 'b', label='Normal model')\n",
    "plt.plot(strikes, normal_implied_vol_from_lognormal_model, 'r', label='Log-normal model')\n",
    "plt.plot(strikes, normal_implied_vol_from_shifted_lognormal_model, 'g', label='Shifted Log-normal model')\n",
    "plt.legend()\n",
    "plt.xlabel('strike')\n",
    "plt.ylabel('Normal implied volatilities')\n",
    "plt.title('Comparison of Normal Implied Volatilities')"
   ]
  },
  {
   "cell_type": "markdown",
   "metadata": {},
   "source": [
    "We comment on some observations from the **Normal** implied volatility graphs:\n",
    "\n",
    "  - Implied volatility from Normal model is flat and coincides with the model's volatility parameter $\\sigma_{\\text{N}}$.\n",
    "    This is because normal implied volatility inverts Bachelier formula which was used to derive reference option prices.\n",
    "\n",
    "  - Implied volatility from Log-normal model vanishes for negative strikes and increases for increasing strikes.\n",
    "    Vanishing implied volatility for negative strikes follows from the fact that the Log-normal model does not allow for\n",
    "    negative strikes. The positive slope of implied volatilities follows from the higher right tail of the Log-normal\n",
    "    distribution compared to the normal distribution.\n",
    "\n",
    "  - Implied volatilities from Shifted Log-normal model show similar graph as from Log-normal model. This expected because\n",
    "    Shifted Log-normal model becomes a Log-Normal model if shift $\\lambda\\rightarrow 0$. Implied volatilities also vanish\n",
    "    for strikes less then $-\\lambda$ because the model does not allow modelling of options for such strikes.\n",
    "    \n",
    "    Moreover, we observe some numerical instabilities for $K \\approx -\\lambda$. Such instabilities may occur when options\n",
    "    are far in-the-money. In this example, we can avoid the instability by choosing pur reference prices instead of call\n",
    "    reference prices; see below.\n",
    "\n",
    "    In general, it is good practice to use put prices for low strikes $K<S(t)$ and call prices for high strikes $K>S(t)$\n",
    "    when calculating implied volatilities.\n",
    "\n",
    "  - For $K=S(t)$ (at-the-money) implied volatilities from all three models coincide. This follows from the fact that we\n",
    "    *calibrated* all models to produce the same forward price $\\mathbb{E}_t^A\\left[ \\left[S(T) - S(t)\\right]^+ \\right] = 0.125\\%$\n",
    "    for the at-the-money strike."
   ]
  },
  {
   "cell_type": "markdown",
   "metadata": {},
   "source": [
    "We repeat the Normal implied volatility calculation for put option prices."
   ]
  },
  {
   "cell_type": "code",
   "execution_count": null,
   "metadata": {},
   "outputs": [],
   "source": [
    "put_prices_normal = bachelier(strikes, S0, sigma_normal, T, callOrPut=-1)\n",
    "put_prices_lognormal = black(strikes, S0, sigma_lognormal, T, callOrPut=-1)\n",
    "put_prices_shifted_lognormal = black(strikes + shift_lambda, S0 + shift_lambda, sigma_shifted_lognormal, T, callOrPut=-1)\n",
    "#\n",
    "normal_implied_vol_from_normal_model = np.array([\n",
    "    bachelier_implied_vol(P, K, S0, T, callOrPut=-1) for P, K in zip(put_prices_normal, strikes) ])\n",
    "\n",
    "normal_implied_vol_from_lognormal_model = np.array([\n",
    "    bachelier_implied_vol(P, K, S0, T, callOrPut=-1) for P, K in zip(put_prices_lognormal, strikes) ])\n",
    "    \n",
    "normal_implied_vol_from_shifted_lognormal_model = np.array([\n",
    "    bachelier_implied_vol(P, K, S0, T, callOrPut=-1) for P, K in zip(put_prices_shifted_lognormal, strikes) ])\n",
    "#\n",
    "plt.figure(figsize=(8,5))\n",
    "plt.plot(strikes, normal_implied_vol_from_normal_model, 'b', label='Normal model')\n",
    "plt.plot(strikes, normal_implied_vol_from_lognormal_model, 'r', label='Log-normal model')\n",
    "plt.plot(strikes, normal_implied_vol_from_shifted_lognormal_model, 'g', label='Shifted Log-normal model')\n",
    "plt.legend()\n",
    "plt.xlabel('strike')\n",
    "plt.ylabel('Normal implied volatilities')\n",
    "plt.title('Comparison of Normal Implied Volatilities')"
   ]
  },
  {
   "cell_type": "markdown",
   "metadata": {},
   "source": [
    "We find that the numerical instability for Shifted Log-normal model disappears.\n",
    "\n",
    "Other then that the implied volatilities from put option prices coincide with implied volatilities from call option prices. This property is another reason why to prefer implied volatilities over prices when comparing models."
   ]
  },
  {
   "cell_type": "markdown",
   "metadata": {},
   "source": [
    "## Volatility Smile Fit\n",
    "\n",
    "We analyse the possibility to fit market quotes for Normal implied volatilities by our basic Vanilla models.\n",
    "\n",
    "We assume forward swap rate is 0.50%. Strikes for market quotes are typically given basis points ($1bp = 10^{-4}$) and relative to the forward swap rate (at-the-money).\n",
    "\n",
    "Smile quotes are typically given relative to the at-the-money volatility quote and also measured in basis points."
   ]
  },
  {
   "cell_type": "code",
   "execution_count": null,
   "metadata": {},
   "outputs": [],
   "source": [
    "relative_strikes = np.array([ -150, -100, -50, -25, 0, 25, 50, 100, 150 ]) * 1.0e-4\n",
    "smile_quotes = np.array([ -3.97, -2.93, -1.73, -0.94, 0.0, 1.11, 2.39, 5.42, 9.00 ]) * 1.0e-4\n",
    "atm_vol_quote = 72.02 * 1.0e-4"
   ]
  },
  {
   "cell_type": "markdown",
   "metadata": {},
   "source": [
    "We can calculate the absolute strikes and volatility quotes and plot the market data."
   ]
  },
  {
   "cell_type": "code",
   "execution_count": null,
   "metadata": {},
   "outputs": [],
   "source": [
    "plt.figure(figsize=(8,5))\n",
    "plt.plot(S0+relative_strikes, atm_vol_quote+smile_quotes, 'm*', label='market quotes')\n",
    "plt.ylim(0.0060, 0.0085)\n",
    "plt.xlabel('strike')\n",
    "plt.ylabel('Normal implied volatility')\n",
    "plt.legend()"
   ]
  },
  {
   "cell_type": "markdown",
   "metadata": {},
   "source": [
    "Now we turn to the question of how we can calibrate the parameters of our basic Vanilla models such that model-implied volatilities match the market quotes as good as possible.\n",
    "\n",
    "With a Normal model we always get flat Normal implied volatilities. Consequently, we cannot fit all market quotes but need to *decide* at which strike level we want to match the market. The at-the-money strike is traded most liquidly. So the strike $K=S(t)$ is a reasonable choice.\n",
    "\n",
    "Log-Normal model is not applicable for these market data. We clearly see market quotes for negative absolute strikes. Call and put options with such strikes cannot be modelled with a Log-normal model at all.\n",
    "\n",
    "For Shifted Log-normal model we can try to find parameters $\\sigma_{\\text{SLN}}$ and $\\lambda$ such that Normal model-implied volatilities are as close as possible to market quotes.\n",
    "\n",
    "In order to calculate implied volatilities from a model we need to do two steps:\n",
    "\n",
    "  1. Calculate Vanilla option price with the pricing formula for that model.\n",
    "\n",
    "  2. Invert Bachelier formula to obtain the Normal implied volatility.\n",
    "\n",
    "We summarise both steps in an auxiliary function."
   ]
  },
  {
   "cell_type": "code",
   "execution_count": null,
   "metadata": {},
   "outputs": [],
   "source": [
    "def implied_vol_from_shifted_lognormal_model(T, strike, forward, sigma_sln, shift_lambda):\n",
    "    callOrPut = 1 if strike > S0 else -1\n",
    "    fwd_price = black(strike + shift_lambda, S0 + shift_lambda, sigma_sln, T, callOrPut)\n",
    "    return bachelier_implied_vol(fwd_price, strike, forward, T, callOrPut)"
   ]
  },
  {
   "cell_type": "markdown",
   "metadata": {},
   "source": [
    "Now, we can plot and compare Normal model volatilities and Shifted Log-normal model volatilities with our market quotes."
   ]
  },
  {
   "cell_type": "code",
   "execution_count": null,
   "metadata": {},
   "outputs": [],
   "source": [
    "implied_vol_n = atm_vol_quote * np.ones(len(strikes))\n",
    "\n",
    "sigma_sln = 0.085\n",
    "shift_lambda = 0.08\n",
    "implied_vol_sln = np.array([ implied_vol_from_shifted_lognormal_model(5.0, K, S0, sigma_sln, shift_lambda) for K in strikes ])\n",
    "\n",
    "plt.figure(figsize=(8,5))\n",
    "plt.plot(S0+relative_strikes, atm_vol_quote+smile_quotes, 'm*', label='market quotes')\n",
    "plt.plot(strikes, implied_vol_n, 'b', label='Normal model')\n",
    "plt.plot(strikes, implied_vol_sln, 'g', label='Shifted Log-normal model')\n",
    "plt.ylim(0.0060, 0.0085)\n",
    "plt.xlabel('strike')\n",
    "plt.ylabel('Normal implied volatility')\n",
    "plt.legend()"
   ]
  },
  {
   "cell_type": "markdown",
   "metadata": {},
   "source": [
    "For this example we can fit a Shifted Log-normal model to the at-the-money volatility quote and the slope (or *volatility skew*) of  market implied volatilities around the at-the-money strike. The resulting Shifted Log-normal model parameters are $\\sigma_{\\text{SLN}}=8.5\\%$ and $\\lambda=8\\%$.\n",
    "\n",
    "However, the market quotes also exhibit some curvature or *volatility smile*. This property can not be captured by our basic Vanilla models."
   ]
  }
 ],
 "metadata": {
  "kernelspec": {
   "display_name": "interest-rate-modelling",
   "language": "python",
   "name": "python3"
  },
  "language_info": {
   "codemirror_mode": {
    "name": "ipython",
    "version": 3
   },
   "file_extension": ".py",
   "mimetype": "text/x-python",
   "name": "python",
   "nbconvert_exporter": "python",
   "pygments_lexer": "ipython3",
   "version": "3.13.2"
  },
  "orig_nbformat": 4
 },
 "nbformat": 4,
 "nbformat_minor": 2
}
