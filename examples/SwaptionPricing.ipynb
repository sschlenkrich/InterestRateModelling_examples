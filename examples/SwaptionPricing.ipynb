{
 "cells": [
  {
   "cell_type": "markdown",
   "metadata": {},
   "source": [
    "# SwaptionPricing\n",
    "\n",
    "In this notebook we illustrate European swaption pricing.\n",
    "\n",
    "We use the QuantLib wrappers provided for the examples."
   ]
  },
  {
   "cell_type": "code",
   "execution_count": null,
   "metadata": {},
   "outputs": [],
   "source": [
    "import sys\n",
    "sys.path.append('../') # make sure we can access the src/ folder\n",
    "\n",
    "import matplotlib.pyplot as plt\n",
    "import numpy as np\n",
    "\n",
    "import QuantLib as ql\n",
    "from src.yieldcurve import YieldCurve\n",
    "from src.swaption import create_swaption\n"
   ]
  },
  {
   "cell_type": "markdown",
   "metadata": {},
   "source": [
    "As preparation we first need to setup curves. We use the example curve data from earlier examples."
   ]
  },
  {
   "cell_type": "code",
   "execution_count": null,
   "metadata": {},
   "outputs": [],
   "source": [
    "terms = [    '1y',    '2y',    '3y',    '4y',    '5y',    '6y',    '7y',    '8y',    '9y',   '10y',   '12y',   '15y',   '20y',   '25y',   '30y', '50y'   ] \n",
    "rates = [ 2.70e-2, 2.75e-2, 2.80e-2, 3.00e-2, 3.36e-2, 3.68e-2, 3.97e-2, 4.24e-2, 4.50e-2, 4.75e-2, 4.75e-2, 4.70e-2, 4.50e-2, 4.30e-2, 4.30e-2, 4.30e-2 ] \n",
    "# rates = [ 0.025 for r in rates ]  # alternative flat curve example\n",
    "rates2 = [ r+0.005 for r in rates ]\n",
    "#\n",
    "discCurve = YieldCurve(terms,rates)\n",
    "projCurve = YieldCurve(terms,rates2)"
   ]
  },
  {
   "cell_type": "markdown",
   "metadata": {},
   "source": [
    "In a first example we assume a flat volatility of 100bp."
   ]
  },
  {
   "cell_type": "code",
   "execution_count": null,
   "metadata": {},
   "outputs": [],
   "source": [
    "normal_implied_volatility = 100 * 1e-4"
   ]
  },
  {
   "cell_type": "markdown",
   "metadata": {},
   "source": [
    "In our initial example we considered a Vanilla swap with 20y maturity and several *call options*. Each individual swap call option represents a European swaption on the *remaining* swap. As a consequence, the options start at different dates but the underlying swaps all mature in 20y.\n",
    "\n",
    "A collection of swaptions with increasing expiry (and swap start) date and fixed swap maturity date is called the set of *co-terminal swaptions*. Note that the swap term (i.e. the swap end minus swap start) decreases for increasing expiry.\n",
    "\n",
    "We construct the collection of co-terminal swaptions with first exercise in 1y and final maturity in 20y corresponding to our example Vanilla swap."
   ]
  },
  {
   "cell_type": "code",
   "execution_count": null,
   "metadata": {},
   "outputs": [],
   "source": [
    "maturity  = 20  # in years\n",
    "swap_fixed_rate = 0.03\n",
    "\n",
    "swaptions = []\n",
    "labels = []\n",
    "for k in range(1,maturity):\n",
    "    expTerm = str(k)+'y'\n",
    "    swpTerm = str(maturity-k)+'y'\n",
    "    labels.append(expTerm+'-'+swpTerm)\n",
    "    swaptions.append( create_swaption(expTerm,swpTerm, discCurve, projCurve, swap_fixed_rate, ql.VanillaSwap.Receiver, normal_implied_volatility ) )\n",
    "    # The create_swaption wrapper constructs an instrument with 10,000 units notional.\n",
    "    # Our swap example is supposed to have 100mm EUR notional, so we need to scale npv results by another 10,000\n"
   ]
  },
  {
   "cell_type": "markdown",
   "metadata": {},
   "source": [
    "Now, we can compare the model prices of the co-terminal swaptions. "
   ]
  },
  {
   "cell_type": "code",
   "execution_count": null,
   "metadata": {},
   "outputs": [],
   "source": [
    "x = 4*np.linspace(1,19,19)\n",
    "fig = plt.figure(figsize=(8, 4))\n",
    "plt.bar(x,[ swaption.npv()*1e+4 for swaption in swaptions ],3.0)  # for 100mm notional\n",
    "plt.xticks(x, labels, rotation='vertical')\n",
    "plt.xlabel('co-terminal swaption')\n",
    "plt.ylabel('option price')\n"
   ]
  },
  {
   "cell_type": "markdown",
   "metadata": {},
   "source": [
    "For underlying swaps that are close to at-the-money we often see such a concave shape of co-terminal swaption prices."
   ]
  }
 ],
 "metadata": {
  "kernelspec": {
   "display_name": "interest-rate-modelling",
   "language": "python",
   "name": "python3"
  },
  "language_info": {
   "codemirror_mode": {
    "name": "ipython",
    "version": 3
   },
   "file_extension": ".py",
   "mimetype": "text/x-python",
   "name": "python",
   "nbconvert_exporter": "python",
   "pygments_lexer": "ipython3",
   "version": "3.13.2"
  },
  "orig_nbformat": 4
 },
 "nbformat": 4,
 "nbformat_minor": 2
}
