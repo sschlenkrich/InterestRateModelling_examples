{
 "cells": [
  {
   "cell_type": "markdown",
   "metadata": {},
   "source": [
    "# Hull White Model Calibration\n",
    "\n",
    "In this notebook we illustrate Hull White model calibration.\n",
    "\n",
    "Hull White model parameters are (time-dependent) short rate volatility and (constant) mean reversion. The calibration methods aim at finding suitable values for these model parameters. "
   ]
  },
  {
   "cell_type": "code",
   "execution_count": null,
   "metadata": {},
   "outputs": [],
   "source": [
    "import sys\n",
    "sys.path.append('../') # make sure we can access the src/ folder\n",
    "\n",
    "from matplotlib import cm\n",
    "import matplotlib.pyplot as plt\n",
    "import numpy as np\n",
    "import pandas as pd\n",
    "from tqdm import tqdm\n",
    "\n",
    "from src.helpers import bachelier_implied_vol\n",
    "from src.hull_white_model import HullWhiteModel\n",
    "from src.swaption import create_swaption\n",
    "from src.yieldcurve import YieldCurve"
   ]
  },
  {
   "cell_type": "markdown",
   "metadata": {},
   "source": [
    "## Global Volatility Calibration to ATM Swaption Volatilities\n",
    "\n",
    "As a first calibration strategy we analyse calibration of short rate volatility to match at-the-money (ATM) Normal implied volatilities for swaptions.\n",
    "\n",
    "We use some swaption market data as reference values, formulate an optimisation problem and analyse solutions.\n",
    "\n",
    "For volatility calibration we assume mean reversion is specified already."
   ]
  },
  {
   "cell_type": "code",
   "execution_count": null,
   "metadata": {},
   "outputs": [],
   "source": [
    "swaption_data = pd.read_csv('../data/swaption_atm_vols.csv', index_col=0)\n",
    "swaption_data * 1e+4  # in bp"
   ]
  },
  {
   "cell_type": "markdown",
   "metadata": {},
   "source": [
    "We want to plot the volatility surface to get some better intuition about the shape of the surface."
   ]
  },
  {
   "cell_type": "code",
   "execution_count": null,
   "metadata": {},
   "outputs": [],
   "source": [
    "def plot_atm_surface_from_data(data, title=None):\n",
    "    expiries = [ int(e[:-1]) for e in data.index   ]\n",
    "    swaps    = [ int(s[:-1]) for s in data.columns ]\n",
    "    X, Y = np.meshgrid(expiries, swaps)\n",
    "    fig = plt.figure(figsize=(12, 8))\n",
    "    ax = fig.add_subplot(projection = '3d')\n",
    "    ax.plot_surface(X, Y, data.values.T * 1e+4, cmap=cm.coolwarm, linewidth=0, antialiased=False)\n",
    "    ax.set_zlim((30.0, 70.0))\n",
    "    ax.set_xlabel('expiry (y)')\n",
    "    ax.set_ylabel('swap term (y)')\n",
    "    ax.set_zlabel('Normal implied volatility (bp)')\n",
    "    ax.set_box_aspect(None, zoom=0.85)\n",
    "    plt.title(title)\n",
    "    # plt.tight_layout()\n",
    "    plt.show()\n",
    "\n",
    "plot_atm_surface_from_data(swaption_data, 'Market ATM Volatilities')"
   ]
  },
  {
   "cell_type": "markdown",
   "metadata": {},
   "source": [
    "### Model-implied ATM Volatility Surface\n",
    "\n",
    "We want to compare the market ATM volatilities to corresponding implied volatilities from a model. For this step we set up a first Hull White model with initial model parameters and plot the corresponding implied ATM volatilities."
   ]
  },
  {
   "cell_type": "code",
   "execution_count": null,
   "metadata": {},
   "outputs": [],
   "source": [
    "yield_curve        = YieldCurve(['70y'], [0.03])\n",
    "mean_reversion     = 0.05\n",
    "volatility_times   = np.array([ 2.0, 5.0, 10.0, 20.0 ])\n",
    "volatility_values  = np.array([  50,  50,   50,   50 ]) * 1e-4\n",
    "\n",
    "model = HullWhiteModel(yield_curve, mean_reversion, volatility_times, volatility_values)"
   ]
  },
  {
   "cell_type": "markdown",
   "metadata": {},
   "source": [
    "For implied volatility calculation we re-use a method from *HullWhiteModel.ipynb*."
   ]
  },
  {
   "cell_type": "code",
   "execution_count": null,
   "metadata": {},
   "outputs": [],
   "source": [
    "def model_implied_volatility(model, expiry_term='10y', swap_term='10y', strike='ATM'):\n",
    "    swaption = create_swaption(expiry_term, swap_term, model.yield_curve, model.yield_curve, strike)\n",
    "    option = swaption.bond_option_details()\n",
    "    fwd_price = model.coupon_bond_option(\n",
    "        option['expiry_time'],\n",
    "        option['pay_times'],\n",
    "        option['cash_flows'],\n",
    "        option['strike_price'],\n",
    "        option['call_or_put']\n",
    "        ) / swaption.annuity()\n",
    "    implied_vol = bachelier_implied_vol(\n",
    "        fwd_price,\n",
    "        swaption.fixed_rate(),\n",
    "        swaption.fairRate(),\n",
    "        option['expiry_time'],\n",
    "        swaption.call_or_put(),\n",
    "        )\n",
    "    return implied_vol"
   ]
  },
  {
   "cell_type": "markdown",
   "metadata": {},
   "source": [
    "We also wrap model-implied ATM volatility surface calculation into a function."
   ]
  },
  {
   "cell_type": "code",
   "execution_count": null,
   "metadata": {},
   "outputs": [],
   "source": [
    "def model_implied_volatility_surface(model, expiry_terms, swap_terms):\n",
    "    values = np.array([\n",
    "        [ model_implied_volatility(model, e, s) for s in swap_terms ]\n",
    "        for e in expiry_terms\n",
    "    ])\n",
    "    return pd.DataFrame(values, index=expiry_terms, columns=swap_terms)\n",
    "\n",
    "model_data = model_implied_volatility_surface(model, swaption_data.index, swaption_data.columns)\n",
    "display(model_data)\n"
   ]
  },
  {
   "cell_type": "code",
   "execution_count": null,
   "metadata": {},
   "outputs": [],
   "source": [
    "plot_atm_surface_from_data(model_data, 'Initial Model-implied Volatilities')"
   ]
  },
  {
   "cell_type": "markdown",
   "metadata": {},
   "source": [
    "Obviously, this does not look like the market volatility surface which we want to match with our model."
   ]
  },
  {
   "cell_type": "markdown",
   "metadata": {},
   "source": [
    "### Volatility Calibration\n",
    "\n",
    "For volatility calibration we specify a set of calibration expiries and calibration swap terms.\n",
    "\n",
    "In principle, we could try to calibrate to all input data. However, this computationally more expensive and it does not change the overall result of our analysis."
   ]
  },
  {
   "cell_type": "code",
   "execution_count": null,
   "metadata": {},
   "outputs": [],
   "source": [
    "calibration_expiry_terms = [ '2y', '5y', '10y', '20y' ]\n",
    "calibration_swap_term    = [ '2y', '5y', '10y', '20y' ]"
   ]
  },
  {
   "cell_type": "markdown",
   "metadata": {},
   "source": [
    "Note that the calibration expiries and short rate volatility times coincide. This is chosen deliberately; see the discussion of volatility calibration helpers.\n",
    "\n",
    "For the calibration expiries/swaps terms we can now obtain the reference volatilities."
   ]
  },
  {
   "cell_type": "code",
   "execution_count": null,
   "metadata": {},
   "outputs": [],
   "source": [
    "reference_volatilities = swaption_data.loc[calibration_expiry_terms, calibration_swap_term]\n",
    "reference_volatilities"
   ]
  },
  {
   "cell_type": "markdown",
   "metadata": {},
   "source": [
    "In the next step we formulate an objective function for volatility calibration."
   ]
  },
  {
   "cell_type": "code",
   "execution_count": null,
   "metadata": {},
   "outputs": [],
   "source": [
    "def global_calibration_objective(sigma):\n",
    "    model = HullWhiteModel(yield_curve, mean_reversion, volatility_times, sigma)\n",
    "    model_volatilities = model_implied_volatility_surface(model, calibration_expiry_terms, calibration_swap_term)\n",
    "    return (model_volatilities - reference_volatilities).values.reshape((-1)) * 1e+4  # difference in bp"
   ]
  },
  {
   "cell_type": "markdown",
   "metadata": {},
   "source": [
    "We can test the objective function on our initial volatility values."
   ]
  },
  {
   "cell_type": "code",
   "execution_count": null,
   "metadata": {},
   "outputs": [],
   "source": [
    "global_calibration_objective(volatility_values)"
   ]
  },
  {
   "cell_type": "markdown",
   "metadata": {},
   "source": [
    "Now, we can optimise for volatility values that minimise the (or a) norm of our objective function.\n",
    "\n",
    "As optimisation method we use Levenberg-Marquardt algorithm from scipy."
   ]
  },
  {
   "cell_type": "code",
   "execution_count": null,
   "metadata": {},
   "outputs": [],
   "source": [
    "from scipy.optimize import least_squares\n",
    "\n",
    "opt = least_squares(global_calibration_objective, volatility_values, method='lm')\n",
    "opt"
   ]
  },
  {
   "cell_type": "markdown",
   "metadata": {},
   "source": [
    "We can check the calibrated volatility term structure"
   ]
  },
  {
   "cell_type": "code",
   "execution_count": null,
   "metadata": {},
   "outputs": [],
   "source": [
    "plt.figure(figsize=(8,5))\n",
    "plt.step(volatility_times, opt.x * 1e+4)\n",
    "plt.xlabel('time $t$')\n",
    "plt.ylabel('$\\sigma(t)$ (in bp)')\n",
    "plt.show()"
   ]
  },
  {
   "cell_type": "markdown",
   "metadata": {},
   "source": [
    "With the calibrated model we can again check the ATM volatility surface."
   ]
  },
  {
   "cell_type": "code",
   "execution_count": null,
   "metadata": {},
   "outputs": [],
   "source": [
    "model = HullWhiteModel(yield_curve, mean_reversion, volatility_times, opt.x)\n",
    "model_data = model_implied_volatility_surface(model, swaption_data.index, swaption_data.columns)\n",
    "plot_atm_surface_from_data(model_data, 'Model-implied Volatilities, a=%.2f' % mean_reversion )"
   ]
  },
  {
   "cell_type": "markdown",
   "metadata": {},
   "source": [
    "The resulting model-implied volatility surface already looks more like the market volatilities.\n",
    "\n",
    "We repeat the calibration for 10% mean reversion and zero mean reversion."
   ]
  },
  {
   "cell_type": "code",
   "execution_count": null,
   "metadata": {},
   "outputs": [],
   "source": [
    "mean_reversion = 0.10\n",
    "opt = least_squares(global_calibration_objective, volatility_values, method='lm')\n",
    "display(opt.message)\n",
    "model = HullWhiteModel(yield_curve, mean_reversion, volatility_times, opt.x)\n",
    "model_data = model_implied_volatility_surface(model, swaption_data.index, swaption_data.columns)\n",
    "plot_atm_surface_from_data(model_data, 'Model-implied Volatilities, a=%.2f' % mean_reversion )"
   ]
  },
  {
   "cell_type": "code",
   "execution_count": null,
   "metadata": {},
   "outputs": [],
   "source": [
    "mean_reversion = 0.0001\n",
    "opt = least_squares(global_calibration_objective, volatility_values, method='lm')\n",
    "display(opt.message)\n",
    "model = HullWhiteModel(yield_curve, mean_reversion, volatility_times, opt.x)\n",
    "model_data = model_implied_volatility_surface(model, swaption_data.index, swaption_data.columns)\n",
    "plot_atm_surface_from_data(model_data, 'Model-implied Volatilities, a=%.2f' % mean_reversion )"
   ]
  },
  {
   "cell_type": "markdown",
   "metadata": {},
   "source": [
    "From the above results we conclude that\n",
    "\n",
    "  - time dependent volatility allows matching volatilities for different expiries,\n",
    "\n",
    "  - in addition, mean reversion allows to control the slope of ATM volatilities in swap term direction,\n",
    "\n",
    "  - low (or zero) mean reversion levels allow for a better global match of market ATM volatilities."
   ]
  },
  {
   "cell_type": "markdown",
   "metadata": {},
   "source": [
    "## Product-specific Volatility Calibration\n",
    "\n",
    "As an alternative approach to global calibration we can be more selective in the choice of reference instruments for calibration.\n",
    "\n",
    "In particular, if we restrict calibration to one reference instrument per expiry time then we can use a bootstrapping approach for model calibration.\n",
    "\n",
    "This bootstrapping approach is implemented in below calibration function."
   ]
  },
  {
   "cell_type": "code",
   "execution_count": null,
   "metadata": {},
   "outputs": [],
   "source": [
    "from scipy.optimize import brentq\n",
    "\n",
    "def model_from_swaptions(european_swaptions, yield_curve, mean_reversion):\n",
    "    details  = [ s.bond_option_details() for s in european_swaptions ]\n",
    "    ref_npv  = [ s.npv()                 for s in european_swaptions ]\n",
    "    ref_vega = [ s.vega()                for s in european_swaptions ]\n",
    "    #\n",
    "    volatility_times  = np.array([ d['expiry_time'] for d in details ])\n",
    "    volatility_values = np.zeros(volatility_times.shape)\n",
    "    for idx in tqdm(range(len(european_swaptions)), 'Model calibration'):\n",
    "        def obj(sigma):\n",
    "            volatility_values[idx:] = sigma\n",
    "            model = HullWhiteModel(yield_curve, mean_reversion, volatility_times, volatility_values)\n",
    "            model_npv = model.coupon_bond_option(\n",
    "                details[idx]['expiry_time'],\n",
    "                details[idx]['pay_times'],\n",
    "                details[idx]['cash_flows'],\n",
    "                details[idx]['strike_price'],\n",
    "                details[idx]['call_or_put']\n",
    "                )\n",
    "            return (model_npv - ref_npv[idx]) / ref_vega[idx]\n",
    "        vol_guess = european_swaptions[idx].normalVolatility\n",
    "        sigma_idx = brentq(obj, 0.1*vol_guess, 5.0*vol_guess, xtol=1.0e-6)\n",
    "        volatility_values[idx] = sigma_idx\n",
    "    return HullWhiteModel(yield_curve, mean_reversion, volatility_times, volatility_values)"
   ]
  },
  {
   "cell_type": "markdown",
   "metadata": {},
   "source": [
    "We test the product-specific calibration for a strip of co-terminal European swaptions."
   ]
  },
  {
   "cell_type": "code",
   "execution_count": null,
   "metadata": {},
   "outputs": [],
   "source": [
    "maturity = 20 # in years\n",
    "expiry_terms = [ str(e)+'y' for e in range(1, maturity) ]\n",
    "swap_terms   = [ str(maturity - e)+'y' for e in range(1, maturity) ]\n",
    "for e, s in zip(expiry_terms, swap_terms):\n",
    "    print(e + '-' + s)"
   ]
  },
  {
   "cell_type": "markdown",
   "metadata": {},
   "source": [
    "The swaptions are set up for a fixed strike rate. Alternatively, we could also use ATM strikes for calibration.\n",
    "\n",
    "In practice, the choice of strike for calibration depends on the market volatilities available. If volatility smile data is available and e.g. a (shifted) SABR model is calibrated and used for smile interpolation then it makes sense to use the strike rate relevant for instrument pricing.\n",
    "\n",
    "If only ATM volatility data is available then it is more consistent to calibrate to ATM swaptions."
   ]
  },
  {
   "cell_type": "code",
   "execution_count": null,
   "metadata": {},
   "outputs": [],
   "source": [
    "swaptions = [\n",
    "    create_swaption(e, s, yield_curve, yield_curve, strike=0.03, normalVolatility=0.01) # flat volatility\n",
    "    # create_swaption(e, s, yield_curve, yield_curve, strike=0.03, normalVolatility=swaption_data.loc[e,s])\n",
    "    for e, s in zip(expiry_terms, swap_terms)\n",
    "]"
   ]
  },
  {
   "cell_type": "markdown",
   "metadata": {},
   "source": [
    "With the strip of swaptions and a given mean reversion parameter we can now run the calibration and plot resulting short rate volatilities."
   ]
  },
  {
   "cell_type": "code",
   "execution_count": null,
   "metadata": {},
   "outputs": [],
   "source": [
    "model = model_from_swaptions(swaptions, yield_curve, mean_reversion=0.05)\n",
    "plt.figure(figsize=(8,5))\n",
    "plt.step(model.volatility_times, model.volatility_values * 1e+4)\n",
    "plt.xlabel(r'time $t$')\n",
    "plt.ylabel(r'$\\sigma(t)$ (in bp)')\n",
    "plt.show()"
   ]
  },
  {
   "cell_type": "markdown",
   "metadata": {},
   "source": [
    "As a result we see a calibrated volatility term structure on an annual time grid.\n",
    "\n",
    "Similarly as before we can check how mean reversion impacts the calibrated volatilities."
   ]
  },
  {
   "cell_type": "code",
   "execution_count": null,
   "metadata": {},
   "outputs": [],
   "source": [
    "times = np.linspace(0.0, maturity, 100*maturity + 1)\n",
    "fig = plt.figure(figsize=(8, 5))\n",
    "for a in tqdm([0.11, 0.09, 0.07, 0.05, 0.03, 0.01, -0.01, -0.03, -0.05]):\n",
    "# for a in tqdm([0.11, 0.09, 0.07, 0.05, 0.03, 0.01, -0.01, ]):\n",
    "    model = model_from_swaptions(swaptions, yield_curve, mean_reversion=a)\n",
    "    sigma = np.array([ model.sigma(t) for t in times ]) * 1e+4\n",
    "    plt.plot(times, sigma, label=str('a = %4.2f' % a))\n",
    "plt.xlabel(r'time $t$')\n",
    "plt.ylabel(r'short rate volatility $\\sigma(t)$ (bp)')\n",
    "plt.legend()\n",
    "plt.show()\n"
   ]
  },
  {
   "cell_type": "markdown",
   "metadata": {},
   "source": [
    "We find that (for flat implied volatilities) mean reversion around 1% yields the least change in model short rate volatilities."
   ]
  }
 ],
 "metadata": {
  "kernelspec": {
   "display_name": "interest-rate-modelling",
   "language": "python",
   "name": "python3"
  },
  "language_info": {
   "codemirror_mode": {
    "name": "ipython",
    "version": 3
   },
   "file_extension": ".py",
   "mimetype": "text/x-python",
   "name": "python",
   "nbconvert_exporter": "python",
   "pygments_lexer": "ipython3",
   "version": "3.13.2"
  },
  "orig_nbformat": 4
 },
 "nbformat": 4,
 "nbformat_minor": 2
}
